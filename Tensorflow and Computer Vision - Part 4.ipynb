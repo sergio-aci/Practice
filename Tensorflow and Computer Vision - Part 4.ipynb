{
 "cells": [
  {
   "cell_type": "markdown",
   "id": "6968bc5e",
   "metadata": {},
   "source": [
    "Introducing convolutional neural networks (ML Zero to Hero - Part 3)"
   ]
  },
  {
   "cell_type": "markdown",
   "id": "178468d5",
   "metadata": {},
   "source": [
    "https://www.youtube.com/watch?v=x_VrgWTKkiM&list=PLQY2H8rRoyvwWuPiWnuTDBHe7I0fMSsfO&index=3"
   ]
  },
  {
   "cell_type": "code",
   "execution_count": 1,
   "id": "d8da78fb",
   "metadata": {
    "ExecuteTime": {
     "end_time": "2023-01-10T13:55:53.178818Z",
     "start_time": "2023-01-10T13:55:46.980941Z"
    }
   },
   "outputs": [
    {
     "name": "stderr",
     "output_type": "stream",
     "text": [
      "2023-01-10 15:55:47.168692: I tensorflow/core/platform/cpu_feature_guard.cc:193] This TensorFlow binary is optimized with oneAPI Deep Neural Network Library (oneDNN) to use the following CPU instructions in performance-critical operations:  SSE4.1 SSE4.2 AVX AVX2 FMA\n",
      "To enable them in other operations, rebuild TensorFlow with the appropriate compiler flags.\n"
     ]
    },
    {
     "name": "stdout",
     "output_type": "stream",
     "text": [
      "2.11.0\n"
     ]
    }
   ],
   "source": [
    "import tensorflow as tf\n",
    "print(tf.__version__)"
   ]
  },
  {
   "cell_type": "code",
   "execution_count": 2,
   "id": "611d450d",
   "metadata": {
    "ExecuteTime": {
     "end_time": "2023-01-10T13:56:15.020698Z",
     "start_time": "2023-01-10T13:56:14.546228Z"
    }
   },
   "outputs": [],
   "source": [
    "mnist = tf.keras.datasets.fashion_mnist\n",
    "(training_images, training_labels), (test_images, test_labels) = mnist.load_data()"
   ]
  },
  {
   "cell_type": "code",
   "execution_count": 3,
   "id": "f5935103",
   "metadata": {
    "ExecuteTime": {
     "end_time": "2023-01-10T13:56:42.527355Z",
     "start_time": "2023-01-10T13:56:42.516862Z"
    }
   },
   "outputs": [
    {
     "data": {
      "text/plain": [
       "((60000, 28, 28), (60000,), (10000, 28, 28), (10000,))"
      ]
     },
     "execution_count": 3,
     "metadata": {},
     "output_type": "execute_result"
    }
   ],
   "source": [
    "training_images.shape, training_labels.shape, test_images.shape, test_labels.shape"
   ]
  },
  {
   "cell_type": "code",
   "execution_count": 4,
   "id": "5fe79e7f",
   "metadata": {
    "ExecuteTime": {
     "end_time": "2023-01-10T13:57:04.591220Z",
     "start_time": "2023-01-10T13:57:04.587528Z"
    }
   },
   "outputs": [],
   "source": [
    "training_images = training_images.reshape(60000, 28, 28, 1)"
   ]
  },
  {
   "cell_type": "code",
   "execution_count": 5,
   "id": "578ee538",
   "metadata": {
    "ExecuteTime": {
     "end_time": "2023-01-10T13:57:11.143923Z",
     "start_time": "2023-01-10T13:57:11.138715Z"
    }
   },
   "outputs": [
    {
     "data": {
      "text/plain": [
       "(60000, 28, 28, 1)"
      ]
     },
     "execution_count": 5,
     "metadata": {},
     "output_type": "execute_result"
    }
   ],
   "source": [
    "training_images.shape"
   ]
  },
  {
   "cell_type": "code",
   "execution_count": 7,
   "id": "8dbefa8f",
   "metadata": {
    "ExecuteTime": {
     "end_time": "2023-01-10T13:57:50.467043Z",
     "start_time": "2023-01-10T13:57:50.461715Z"
    }
   },
   "outputs": [
    {
     "data": {
      "text/plain": [
       "(28, 28, 1)"
      ]
     },
     "execution_count": 7,
     "metadata": {},
     "output_type": "execute_result"
    }
   ],
   "source": [
    "training_images[0].shape"
   ]
  },
  {
   "cell_type": "code",
   "execution_count": 8,
   "id": "e80a58ba",
   "metadata": {
    "ExecuteTime": {
     "end_time": "2023-01-10T13:58:03.602028Z",
     "start_time": "2023-01-10T13:58:03.257416Z"
    }
   },
   "outputs": [],
   "source": [
    "training_images = training_images / 255.0"
   ]
  },
  {
   "cell_type": "code",
   "execution_count": 9,
   "id": "1f43c49f",
   "metadata": {
    "ExecuteTime": {
     "end_time": "2023-01-10T13:58:15.442740Z",
     "start_time": "2023-01-10T13:58:15.397196Z"
    }
   },
   "outputs": [],
   "source": [
    "test_images = test_images.reshape(10000, 28, 28, 1)\n",
    "test_images = test_images / 255.0"
   ]
  },
  {
   "cell_type": "code",
   "execution_count": 18,
   "id": "a7c18070",
   "metadata": {
    "ExecuteTime": {
     "end_time": "2023-01-10T14:16:42.582207Z",
     "start_time": "2023-01-10T14:16:42.511347Z"
    }
   },
   "outputs": [],
   "source": [
    "model = tf.keras.models.Sequential([\n",
    "  tf.keras.layers.Conv2D(64, (3, 3), activation='relu', input_shape=(28, 28, 1)),\n",
    "  tf.keras.layers.MaxPooling2D(2, 2),\n",
    "  tf.keras.layers.Conv2D(64, (3, 3), activation='relu'),\n",
    "  tf.keras.layers.MaxPooling2D(2,2),\n",
    "  tf.keras.layers.Flatten(),\n",
    "  tf.keras.layers.Dense(128, activation='relu'),\n",
    "  tf.keras.layers.Dense(10, activation='softmax')\n",
    "])"
   ]
  },
  {
   "cell_type": "code",
   "execution_count": 21,
   "id": "1a4b0db2",
   "metadata": {
    "ExecuteTime": {
     "end_time": "2023-01-10T14:17:50.107799Z",
     "start_time": "2023-01-10T14:17:50.095622Z"
    }
   },
   "outputs": [],
   "source": [
    "model.compile(optimizer='adam', loss='sparse_categorical_crossentropy', metrics=['accuracy'])"
   ]
  },
  {
   "cell_type": "code",
   "execution_count": 12,
   "id": "8dea80e7",
   "metadata": {
    "ExecuteTime": {
     "end_time": "2023-01-10T13:59:03.529192Z",
     "start_time": "2023-01-10T13:59:03.494477Z"
    }
   },
   "outputs": [
    {
     "name": "stdout",
     "output_type": "stream",
     "text": [
      "Model: \"sequential\"\n",
      "_________________________________________________________________\n",
      " Layer (type)                Output Shape              Param #   \n",
      "=================================================================\n",
      " conv2d (Conv2D)             (None, 26, 26, 64)        640       \n",
      "                                                                 \n",
      " max_pooling2d (MaxPooling2D  (None, 13, 13, 64)       0         \n",
      " )                                                               \n",
      "                                                                 \n",
      " conv2d_1 (Conv2D)           (None, 11, 11, 64)        36928     \n",
      "                                                                 \n",
      " max_pooling2d_1 (MaxPooling  (None, 5, 5, 64)         0         \n",
      " 2D)                                                             \n",
      "                                                                 \n",
      " flatten (Flatten)           (None, 1600)              0         \n",
      "                                                                 \n",
      " dense (Dense)               (None, 128)               204928    \n",
      "                                                                 \n",
      " dense_1 (Dense)             (None, 10)                1290      \n",
      "                                                                 \n",
      "=================================================================\n",
      "Total params: 243,786\n",
      "Trainable params: 243,786\n",
      "Non-trainable params: 0\n",
      "_________________________________________________________________\n"
     ]
    }
   ],
   "source": [
    "model.summary()"
   ]
  },
  {
   "cell_type": "code",
   "execution_count": 13,
   "id": "1cbf2587",
   "metadata": {
    "ExecuteTime": {
     "end_time": "2023-01-10T14:10:17.432648Z",
     "start_time": "2023-01-10T14:06:48.511489Z"
    }
   },
   "outputs": [
    {
     "name": "stdout",
     "output_type": "stream",
     "text": [
      "Epoch 1/5\n",
      "1875/1875 [==============================] - 43s 22ms/step - loss: 0.4418 - accuracy: 0.8384\n",
      "Epoch 2/5\n",
      "1875/1875 [==============================] - 42s 23ms/step - loss: 0.2989 - accuracy: 0.8911\n",
      "Epoch 3/5\n",
      "1875/1875 [==============================] - 41s 22ms/step - loss: 0.2543 - accuracy: 0.9059\n",
      "Epoch 4/5\n",
      "1875/1875 [==============================] - 41s 22ms/step - loss: 0.2224 - accuracy: 0.9171\n",
      "Epoch 5/5\n",
      "1875/1875 [==============================] - 41s 22ms/step - loss: 0.1920 - accuracy: 0.9285\n"
     ]
    },
    {
     "data": {
      "text/plain": [
       "<keras.callbacks.History at 0x18c95ec70>"
      ]
     },
     "execution_count": 13,
     "metadata": {},
     "output_type": "execute_result"
    }
   ],
   "source": [
    "model.fit(training_images, training_labels, epochs=5)"
   ]
  },
  {
   "cell_type": "code",
   "execution_count": 14,
   "id": "01b02ef8",
   "metadata": {
    "ExecuteTime": {
     "end_time": "2023-01-10T14:12:56.349686Z",
     "start_time": "2023-01-10T14:12:54.250842Z"
    }
   },
   "outputs": [
    {
     "name": "stdout",
     "output_type": "stream",
     "text": [
      "313/313 [==============================] - 2s 6ms/step - loss: 0.2431 - accuracy: 0.9122\n"
     ]
    },
    {
     "data": {
      "text/plain": [
       "'Test loss: 0.24308881163597107, Test accuracy: 91.21999740600586'"
      ]
     },
     "execution_count": 14,
     "metadata": {},
     "output_type": "execute_result"
    }
   ],
   "source": [
    "test_loss, test_accuracy = model.evaluate(test_images, test_labels)\n",
    "f'Test loss: {test_loss}, Test accuracy: {test_accuracy * 100}'"
   ]
  },
  {
   "cell_type": "code",
   "execution_count": 15,
   "id": "909fa9ac",
   "metadata": {
    "ExecuteTime": {
     "end_time": "2023-01-10T14:13:14.230792Z",
     "start_time": "2023-01-10T14:13:14.226431Z"
    }
   },
   "outputs": [
    {
     "name": "stdout",
     "output_type": "stream",
     "text": [
      "Test loss: 0.24308881163597107, Test accuracy: 91.21999740600586\n"
     ]
    }
   ],
   "source": [
    "print(f'Test loss: {test_loss}, Test accuracy: {test_accuracy * 100}')"
   ]
  },
  {
   "cell_type": "code",
   "execution_count": 23,
   "id": "def363b9",
   "metadata": {
    "ExecuteTime": {
     "end_time": "2023-01-10T14:19:03.357754Z",
     "start_time": "2023-01-10T14:19:03.295430Z"
    }
   },
   "outputs": [],
   "source": [
    "model = tf.keras.models.Sequential([\n",
    "  tf.keras.layers.Conv2D(64, (3, 3), activation='relu', input_shape=(28, 28, 1)),\n",
    "  tf.keras.layers.MaxPooling2D(2, 2),\n",
    "  tf.keras.layers.Conv2D(64, (3, 3), activation='relu'),\n",
    "  tf.keras.layers.MaxPooling2D(2,2),\n",
    "  tf.keras.layers.Flatten(),\n",
    "  tf.keras.layers.Dense(128, activation='relu'),\n",
    "  tf.keras.layers.Dense(10, activation='softmax')\n",
    "])"
   ]
  },
  {
   "cell_type": "code",
   "execution_count": 24,
   "id": "90ccf351",
   "metadata": {
    "ExecuteTime": {
     "end_time": "2023-01-10T14:19:17.691686Z",
     "start_time": "2023-01-10T14:19:17.681162Z"
    }
   },
   "outputs": [],
   "source": [
    "model.compile(optimizer='adam', loss='sparse_categorical_crossentropy', metrics=['accuracy'])"
   ]
  },
  {
   "cell_type": "code",
   "execution_count": 25,
   "id": "3b852f2c",
   "metadata": {
    "ExecuteTime": {
     "end_time": "2023-01-10T14:33:03.710136Z",
     "start_time": "2023-01-10T14:19:31.968613Z"
    }
   },
   "outputs": [
    {
     "name": "stdout",
     "output_type": "stream",
     "text": [
      "Epoch 1/20\n",
      "1875/1875 [==============================] - 42s 22ms/step - loss: 0.4331 - accuracy: 0.8425\n",
      "Epoch 2/20\n",
      "1875/1875 [==============================] - 40s 21ms/step - loss: 0.2897 - accuracy: 0.8927\n",
      "Epoch 3/20\n",
      "1875/1875 [==============================] - 41s 22ms/step - loss: 0.2444 - accuracy: 0.9102\n",
      "Epoch 4/20\n",
      "1875/1875 [==============================] - 41s 22ms/step - loss: 0.2134 - accuracy: 0.9201\n",
      "Epoch 5/20\n",
      "1875/1875 [==============================] - 41s 22ms/step - loss: 0.1878 - accuracy: 0.9301\n",
      "Epoch 6/20\n",
      "1875/1875 [==============================] - 42s 22ms/step - loss: 0.1626 - accuracy: 0.9387\n",
      "Epoch 7/20\n",
      "1875/1875 [==============================] - 40s 21ms/step - loss: 0.1447 - accuracy: 0.9454\n",
      "Epoch 8/20\n",
      "1875/1875 [==============================] - 40s 21ms/step - loss: 0.1260 - accuracy: 0.9518\n",
      "Epoch 9/20\n",
      "1875/1875 [==============================] - 40s 21ms/step - loss: 0.1106 - accuracy: 0.9583\n",
      "Epoch 10/20\n",
      "1875/1875 [==============================] - 41s 22ms/step - loss: 0.0976 - accuracy: 0.9634\n",
      "Epoch 11/20\n",
      "1875/1875 [==============================] - 39s 21ms/step - loss: 0.0873 - accuracy: 0.9667\n",
      "Epoch 12/20\n",
      "1875/1875 [==============================] - 40s 21ms/step - loss: 0.0755 - accuracy: 0.9720\n",
      "Epoch 13/20\n",
      "1875/1875 [==============================] - 39s 21ms/step - loss: 0.0686 - accuracy: 0.9739\n",
      "Epoch 14/20\n",
      "1875/1875 [==============================] - 40s 22ms/step - loss: 0.0590 - accuracy: 0.9776\n",
      "Epoch 15/20\n",
      "1875/1875 [==============================] - 41s 22ms/step - loss: 0.0538 - accuracy: 0.9793\n",
      "Epoch 16/20\n",
      "1875/1875 [==============================] - 41s 22ms/step - loss: 0.0481 - accuracy: 0.9826\n",
      "Epoch 17/20\n",
      "1875/1875 [==============================] - 41s 22ms/step - loss: 0.0457 - accuracy: 0.9829\n",
      "Epoch 18/20\n",
      "1875/1875 [==============================] - 42s 22ms/step - loss: 0.0397 - accuracy: 0.9851\n",
      "Epoch 19/20\n",
      "1875/1875 [==============================] - 42s 22ms/step - loss: 0.0364 - accuracy: 0.9870\n",
      "Epoch 20/20\n",
      "1875/1875 [==============================] - 40s 21ms/step - loss: 0.0376 - accuracy: 0.9865\n"
     ]
    },
    {
     "data": {
      "text/plain": [
       "<keras.callbacks.History at 0x18eef52b0>"
      ]
     },
     "execution_count": 25,
     "metadata": {},
     "output_type": "execute_result"
    }
   ],
   "source": [
    "model.fit(training_images, training_labels, epochs=20)"
   ]
  },
  {
   "cell_type": "code",
   "execution_count": 26,
   "id": "ce099877",
   "metadata": {
    "ExecuteTime": {
     "end_time": "2023-01-10T14:34:06.679208Z",
     "start_time": "2023-01-10T14:34:04.749806Z"
    }
   },
   "outputs": [
    {
     "name": "stdout",
     "output_type": "stream",
     "text": [
      "313/313 [==============================] - 2s 5ms/step - loss: 0.5064 - accuracy: 0.9090\n"
     ]
    },
    {
     "data": {
      "text/plain": [
       "'Test loss: 0.5064190626144409, Test accuracy: 90.89999794960022'"
      ]
     },
     "execution_count": 26,
     "metadata": {},
     "output_type": "execute_result"
    }
   ],
   "source": [
    "test_loss, test_accuracy = model.evaluate(test_images, test_labels)\n",
    "f'Test loss: {test_loss}, Test accuracy: {test_accuracy * 100}'"
   ]
  },
  {
   "cell_type": "code",
   "execution_count": 28,
   "id": "9ea20cbc",
   "metadata": {
    "ExecuteTime": {
     "end_time": "2023-01-11T13:07:31.207020Z",
     "start_time": "2023-01-11T13:07:18.397508Z"
    }
   },
   "outputs": [],
   "source": [
    "import matplotlib.pyplot as plt"
   ]
  },
  {
   "cell_type": "code",
   "execution_count": 30,
   "id": "f0d448c1",
   "metadata": {
    "ExecuteTime": {
     "end_time": "2023-01-11T13:30:55.908766Z",
     "start_time": "2023-01-11T13:30:55.903106Z"
    }
   },
   "outputs": [],
   "source": [
    "from tensorflow.keras import models"
   ]
  },
  {
   "cell_type": "code",
   "execution_count": 34,
   "id": "09d31ded",
   "metadata": {
    "ExecuteTime": {
     "end_time": "2023-01-11T13:36:11.467956Z",
     "start_time": "2023-01-11T13:36:09.388546Z"
    }
   },
   "outputs": [
    {
     "name": "stdout",
     "output_type": "stream",
     "text": [
      "1/1 [==============================] - 0s 85ms/step\n",
      "1/1 [==============================] - 0s 24ms/step\n",
      "1/1 [==============================] - 0s 24ms/step\n",
      "1/1 [==============================] - 0s 23ms/step\n",
      "1/1 [==============================] - 0s 23ms/step\n",
      "1/1 [==============================] - 0s 24ms/step\n",
      "1/1 [==============================] - 0s 26ms/step\n",
      "1/1 [==============================] - 0s 24ms/step\n",
      "1/1 [==============================] - 0s 24ms/step\n",
      "1/1 [==============================] - 0s 24ms/step\n",
      "1/1 [==============================] - 0s 23ms/step\n",
      "1/1 [==============================] - 0s 30ms/step\n"
     ]
    },
    {
     "data": {
      "image/png": "[encoded data removed]",
      "text/plain": [
       "<Figure size 640x480 with 12 Axes>"
      ]
     },
     "metadata": {},
     "output_type": "display_data"
    }
   ],
   "source": [
    "fig, ax = plt.subplots(3,4)\n",
    "\n",
    "FIRST_IMAGE = 0\n",
    "SECOND_IMAGE = 23\n",
    "THIRD_IMAGE = 28\n",
    "CONVOLUTION_NUMBER = 6\n",
    "\n",
    "layer_outputs = [layer.output for layer in model.layers]\n",
    "activation_model = tf.keras.models.Model(inputs = model.input, outputs = layer_outputs)\n",
    "for x in range(0,4):\n",
    "    f1 = activation_model.predict(test_images[FIRST_IMAGE].reshape(1, 28, 28, 1))[x]\n",
    "    ax[0, x].imshow(f1[0, : , :, CONVOLUTION_NUMBER], cmap='inferno')\n",
    "    ax[0, x].grid(False)\n",
    "    f2 = activation_model.predict(test_images[SECOND_IMAGE].reshape(1, 28, 28, 1))[x]\n",
    "    ax[1, x].imshow(f2[0, : , :, CONVOLUTION_NUMBER], cmap='inferno')\n",
    "    ax[1, x].grid(False)\n",
    "    f3 = activation_model.predict(test_images[THIRD_IMAGE].reshape(1, 28, 28, 1))[x]\n",
    "    ax[2, x].imshow(f3[0, : , :, CONVOLUTION_NUMBER], cmap='inferno')\n",
    "    ax[2, x].grid(False)"
   ]
  },
  {
   "cell_type": "code",
   "execution_count": 35,
   "id": "83f27cb7",
   "metadata": {
    "ExecuteTime": {
     "end_time": "2023-01-11T13:36:50.800574Z",
     "start_time": "2023-01-11T13:36:50.795503Z"
    }
   },
   "outputs": [
    {
     "data": {
      "text/plain": [
       "[<keras.layers.convolutional.conv2d.Conv2D at 0x18eeddb80>,\n",
       " <keras.layers.pooling.max_pooling2d.MaxPooling2D at 0x18eedda00>,\n",
       " <keras.layers.convolutional.conv2d.Conv2D at 0x18eedbbe0>,\n",
       " <keras.layers.pooling.max_pooling2d.MaxPooling2D at 0x18eedb9a0>,\n",
       " <keras.layers.reshaping.flatten.Flatten at 0x18eedba60>,\n",
       " <keras.layers.core.dense.Dense at 0x18eebaca0>,\n",
       " <keras.layers.core.dense.Dense at 0x18eebac40>]"
      ]
     },
     "execution_count": 35,
     "metadata": {},
     "output_type": "execute_result"
    }
   ],
   "source": [
    "model.layers"
   ]
  },
  {
   "cell_type": "code",
   "execution_count": 36,
   "id": "53999848",
   "metadata": {
    "ExecuteTime": {
     "end_time": "2023-01-11T13:37:02.601544Z",
     "start_time": "2023-01-11T13:37:02.595484Z"
    }
   },
   "outputs": [
    {
     "data": {
      "text/plain": [
       "[<KerasTensor: shape=(None, 26, 26, 64) dtype=float32 (created by layer 'conv2d_4')>,\n",
       " <KerasTensor: shape=(None, 13, 13, 64) dtype=float32 (created by layer 'max_pooling2d_4')>,\n",
       " <KerasTensor: shape=(None, 11, 11, 64) dtype=float32 (created by layer 'conv2d_5')>,\n",
       " <KerasTensor: shape=(None, 5, 5, 64) dtype=float32 (created by layer 'max_pooling2d_5')>,\n",
       " <KerasTensor: shape=(None, 1600) dtype=float32 (created by layer 'flatten_2')>,\n",
       " <KerasTensor: shape=(None, 128) dtype=float32 (created by layer 'dense_4')>,\n",
       " <KerasTensor: shape=(None, 10) dtype=float32 (created by layer 'dense_5')>]"
      ]
     },
     "execution_count": 36,
     "metadata": {},
     "output_type": "execute_result"
    }
   ],
   "source": [
    "layer_outputs"
   ]
  },
  {
   "cell_type": "code",
   "execution_count": 37,
   "id": "bc2f36b6",
   "metadata": {
    "ExecuteTime": {
     "end_time": "2023-01-11T13:38:20.473412Z",
     "start_time": "2023-01-11T13:38:20.467985Z"
    }
   },
   "outputs": [
    {
     "data": {
      "text/plain": [
       "<KerasTensor: shape=(None, 28, 28, 1) dtype=float32 (created by layer 'conv2d_4_input')>"
      ]
     },
     "execution_count": 37,
     "metadata": {},
     "output_type": "execute_result"
    }
   ],
   "source": [
    "model.input"
   ]
  },
  {
   "cell_type": "code",
   "execution_count": 41,
   "id": "d9b4cc2f",
   "metadata": {
    "ExecuteTime": {
     "end_time": "2023-01-11T13:41:24.033865Z",
     "start_time": "2023-01-11T13:41:23.951297Z"
    }
   },
   "outputs": [
    {
     "name": "stdout",
     "output_type": "stream",
     "text": [
      "1/1 [==============================] - 0s 32ms/step\n"
     ]
    },
    {
     "data": {
      "text/plain": [
       "list"
      ]
     },
     "execution_count": 41,
     "metadata": {},
     "output_type": "execute_result"
    }
   ],
   "source": [
    "type(activation_model.predict(test_images[FIRST_IMAGE].reshape(1, 28, 28, 1)))"
   ]
  },
  {
   "cell_type": "code",
   "execution_count": 40,
   "id": "609de5c7",
   "metadata": {
    "ExecuteTime": {
     "end_time": "2023-01-11T13:40:55.240357Z",
     "start_time": "2023-01-11T13:40:55.152425Z"
    }
   },
   "outputs": [
    {
     "name": "stdout",
     "output_type": "stream",
     "text": [
      "1/1 [==============================] - 0s 30ms/step\n"
     ]
    },
    {
     "data": {
      "text/plain": [
       "7"
      ]
     },
     "execution_count": 40,
     "metadata": {},
     "output_type": "execute_result"
    }
   ],
   "source": [
    "len(activation_model.predict(test_images[FIRST_IMAGE].reshape(1, 28, 28, 1)))"
   ]
  },
  {
   "cell_type": "code",
   "execution_count": null,
   "id": "d3b1ef53",
   "metadata": {},
   "outputs": [],
   "source": []
  }
 ],
 "metadata": {
  "kernelspec": {
   "display_name": "Python 3 (ipykernel)",
   "language": "python",
   "name": "python3"
  },
  "language_info": {
   "codemirror_mode": {
    "name": "ipython",
    "version": 3
   },
   "file_extension": ".py",
   "mimetype": "text/x-python",
   "name": "python",
   "nbconvert_exporter": "python",
   "pygments_lexer": "ipython3",
   "version": "3.9.15"
  }
 },
 "nbformat": 4,
 "nbformat_minor": 5
}
