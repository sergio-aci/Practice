{
 "cells": [
  {
   "cell_type": "markdown",
   "id": "7039395f",
   "metadata": {},
   "source": [
    "Using Python to Connect to a GraphQL API"
   ]
  },
  {
   "cell_type": "markdown",
   "id": "96096da0",
   "metadata": {},
   "source": [
    "https://towardsdatascience.com/connecting-to-a-graphql-api-using-python-246dda927840"
   ]
  },
  {
   "cell_type": "code",
   "execution_count": 1,
   "id": "af731ebf",
   "metadata": {
    "ExecuteTime": {
     "end_time": "2022-12-27T19:47:09.756976Z",
     "start_time": "2022-12-27T19:47:09.190027Z"
    }
   },
   "outputs": [],
   "source": [
    "import requests\n",
    "import json\n",
    "import pandas as pd"
   ]
  },
  {
   "cell_type": "code",
   "execution_count": 3,
   "id": "1a128151",
   "metadata": {
    "ExecuteTime": {
     "end_time": "2022-12-27T19:48:25.239243Z",
     "start_time": "2022-12-27T19:48:25.235246Z"
    }
   },
   "outputs": [],
   "source": [
    "query = \"\"\"query {\n",
    "    characters {\n",
    "    results {\n",
    "      name\n",
    "      status\n",
    "      species\n",
    "      type\n",
    "      gender\n",
    "    }\n",
    "  }\n",
    "}\"\"\""
   ]
  },
  {
   "cell_type": "code",
   "execution_count": 4,
   "id": "6d7beacb",
   "metadata": {
    "ExecuteTime": {
     "end_time": "2022-12-27T19:48:42.005219Z",
     "start_time": "2022-12-27T19:48:41.172984Z"
    }
   },
   "outputs": [
    {
     "name": "stdout",
     "output_type": "stream",
     "text": [
      "200\n",
      "{\"data\":{\"characters\":{\"results\":[{\"name\":\"Rick Sanchez\",\"status\":\"Alive\",\"species\":\"Human\",\"type\":\"\",\"gender\":\"Male\"},{\"name\":\"Morty Smith\",\"status\":\"Alive\",\"species\":\"Human\",\"type\":\"\",\"gender\":\"Male\"},{\"name\":\"Summer Smith\",\"status\":\"Alive\",\"species\":\"Human\",\"type\":\"\",\"gender\":\"Female\"},{\"name\":\"Beth Smith\",\"status\":\"Alive\",\"species\":\"Human\",\"type\":\"\",\"gender\":\"Female\"},{\"name\":\"Jerry Smith\",\"status\":\"Alive\",\"species\":\"Human\",\"type\":\"\",\"gender\":\"Male\"},{\"name\":\"Abadango Cluster Princess\",\"status\":\"Alive\",\"species\":\"Alien\",\"type\":\"\",\"gender\":\"Female\"},{\"name\":\"Abradolf Lincler\",\"status\":\"unknown\",\"species\":\"Human\",\"type\":\"Genetic experiment\",\"gender\":\"Male\"},{\"name\":\"Adjudicator Rick\",\"status\":\"Dead\",\"species\":\"Human\",\"type\":\"\",\"gender\":\"Male\"},{\"name\":\"Agency Director\",\"status\":\"Dead\",\"species\":\"Human\",\"type\":\"\",\"gender\":\"Male\"},{\"name\":\"Alan Rails\",\"status\":\"Dead\",\"species\":\"Human\",\"type\":\"Superhuman (Ghost trains summoner)\",\"gender\":\"Male\"},{\"name\":\"Albert Einstein\",\"status\":\"Dead\",\"species\":\"Human\",\"type\":\"\",\"gender\":\"Male\"},{\"name\":\"Alexander\",\"status\":\"Dead\",\"species\":\"Human\",\"type\":\"\",\"gender\":\"Male\"},{\"name\":\"Alien Googah\",\"status\":\"unknown\",\"species\":\"Alien\",\"type\":\"\",\"gender\":\"unknown\"},{\"name\":\"Alien Morty\",\"status\":\"unknown\",\"species\":\"Alien\",\"type\":\"\",\"gender\":\"Male\"},{\"name\":\"Alien Rick\",\"status\":\"unknown\",\"species\":\"Alien\",\"type\":\"\",\"gender\":\"Male\"},{\"name\":\"Amish Cyborg\",\"status\":\"Dead\",\"species\":\"Alien\",\"type\":\"Parasite\",\"gender\":\"Male\"},{\"name\":\"Annie\",\"status\":\"Alive\",\"species\":\"Human\",\"type\":\"\",\"gender\":\"Female\"},{\"name\":\"Antenna Morty\",\"status\":\"Alive\",\"species\":\"Human\",\"type\":\"Human with antennae\",\"gender\":\"Male\"},{\"name\":\"Antenna Rick\",\"status\":\"unknown\",\"species\":\"Human\",\"type\":\"Human with antennae\",\"gender\":\"Male\"},{\"name\":\"Ants in my Eyes Johnson\",\"status\":\"unknown\",\"species\":\"Human\",\"type\":\"Human with ants in his eyes\",\"gender\":\"Male\"}]}}}\n"
     ]
    }
   ],
   "source": [
    "url = 'https://rickandmortyapi.com/graphql/'\n",
    "r = requests.post(url, json={'query': query})\n",
    "print(r.status_code)\n",
    "print(r.text)"
   ]
  },
  {
   "cell_type": "code",
   "execution_count": 5,
   "id": "819be206",
   "metadata": {
    "ExecuteTime": {
     "end_time": "2022-12-27T19:49:11.978571Z",
     "start_time": "2022-12-27T19:49:11.975352Z"
    }
   },
   "outputs": [],
   "source": [
    "json_data = json.loads(r.text)"
   ]
  },
  {
   "cell_type": "code",
   "execution_count": 7,
   "id": "97d4360e",
   "metadata": {
    "ExecuteTime": {
     "end_time": "2022-12-27T19:49:48.102260Z",
     "start_time": "2022-12-27T19:49:48.093777Z"
    }
   },
   "outputs": [],
   "source": [
    "df_data = json_data['data']['characters']['results']\n",
    "df = pd.DataFrame(df_data)"
   ]
  },
  {
   "cell_type": "code",
   "execution_count": 9,
   "id": "48b6c878",
   "metadata": {
    "ExecuteTime": {
     "end_time": "2022-12-27T19:50:27.909204Z",
     "start_time": "2022-12-27T19:50:27.895853Z"
    }
   },
   "outputs": [
    {
     "data": {
      "text/html": [
       "<div>\n",
       "<style scoped>\n",
       "    .dataframe tbody tr th:only-of-type {\n",
       "        vertical-align: middle;\n",
       "    }\n",
       "\n",
       "    .dataframe tbody tr th {\n",
       "        vertical-align: top;\n",
       "    }\n",
       "\n",
       "    .dataframe thead th {\n",
       "        text-align: right;\n",
       "    }\n",
       "</style>\n",
       "<table border=\"1\" class=\"dataframe\">\n",
       "  <thead>\n",
       "    <tr style=\"text-align: right;\">\n",
       "      <th></th>\n",
       "      <th>name</th>\n",
       "      <th>status</th>\n",
       "      <th>species</th>\n",
       "      <th>type</th>\n",
       "      <th>gender</th>\n",
       "    </tr>\n",
       "  </thead>\n",
       "  <tbody>\n",
       "    <tr>\n",
       "      <th>0</th>\n",
       "      <td>Rick Sanchez</td>\n",
       "      <td>Alive</td>\n",
       "      <td>Human</td>\n",
       "      <td></td>\n",
       "      <td>Male</td>\n",
       "    </tr>\n",
       "    <tr>\n",
       "      <th>1</th>\n",
       "      <td>Morty Smith</td>\n",
       "      <td>Alive</td>\n",
       "      <td>Human</td>\n",
       "      <td></td>\n",
       "      <td>Male</td>\n",
       "    </tr>\n",
       "    <tr>\n",
       "      <th>2</th>\n",
       "      <td>Summer Smith</td>\n",
       "      <td>Alive</td>\n",
       "      <td>Human</td>\n",
       "      <td></td>\n",
       "      <td>Female</td>\n",
       "    </tr>\n",
       "    <tr>\n",
       "      <th>3</th>\n",
       "      <td>Beth Smith</td>\n",
       "      <td>Alive</td>\n",
       "      <td>Human</td>\n",
       "      <td></td>\n",
       "      <td>Female</td>\n",
       "    </tr>\n",
       "    <tr>\n",
       "      <th>4</th>\n",
       "      <td>Jerry Smith</td>\n",
       "      <td>Alive</td>\n",
       "      <td>Human</td>\n",
       "      <td></td>\n",
       "      <td>Male</td>\n",
       "    </tr>\n",
       "  </tbody>\n",
       "</table>\n",
       "</div>"
      ],
      "text/plain": [
       "           name status species type  gender\n",
       "0  Rick Sanchez  Alive   Human         Male\n",
       "1   Morty Smith  Alive   Human         Male\n",
       "2  Summer Smith  Alive   Human       Female\n",
       "3    Beth Smith  Alive   Human       Female\n",
       "4   Jerry Smith  Alive   Human         Male"
      ]
     },
     "execution_count": 9,
     "metadata": {},
     "output_type": "execute_result"
    }
   ],
   "source": [
    "df.head()"
   ]
  },
  {
   "cell_type": "code",
   "execution_count": null,
   "id": "a1ec4ffe",
   "metadata": {},
   "outputs": [],
   "source": []
  }
 ],
 "metadata": {
  "kernelspec": {
   "display_name": "Python 3",
   "language": "python",
   "name": "python3"
  },
  "language_info": {
   "codemirror_mode": {
    "name": "ipython",
    "version": 3
   },
   "file_extension": ".py",
   "mimetype": "text/x-python",
   "name": "python",
   "nbconvert_exporter": "python",
   "pygments_lexer": "ipython3",
   "version": "3.9.13"
  }
 },
 "nbformat": 4,
 "nbformat_minor": 5
}
