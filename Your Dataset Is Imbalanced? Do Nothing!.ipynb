{
 "cells": [
  {
   "cell_type": "markdown",
   "id": "64939068",
   "metadata": {},
   "source": [
    "Your Dataset Is Imbalanced? Do Nothing!"
   ]
  },
  {
   "cell_type": "markdown",
   "id": "4305d4c3",
   "metadata": {},
   "source": [
    "https://towardsdatascience.com/your-dataset-is-imbalanced-do-nothing-abf6a0049813"
   ]
  },
  {
   "cell_type": "code",
   "execution_count": 1,
   "id": "ee9ab600",
   "metadata": {
    "ExecuteTime": {
     "end_time": "2022-10-09T09:40:19.460083Z",
     "start_time": "2022-10-09T09:40:18.027515Z"
    }
   },
   "outputs": [],
   "source": [
    "# generating toy datasets\n",
    "import numpy as np"
   ]
  },
  {
   "cell_type": "code",
   "execution_count": 2,
   "id": "f05c12aa",
   "metadata": {
    "ExecuteTime": {
     "end_time": "2022-10-09T09:40:36.562130Z",
     "start_time": "2022-10-09T09:40:36.544464Z"
    }
   },
   "outputs": [],
   "source": [
    "negatives_train = np.random.normal(5,1,90_000)\n",
    "positives_train = np.random.normal(8,1,10_000)\n",
    "x_train = np.concatenate([negatives_train, positives_train])\n",
    "y_train = np.array([0] * len(negatives_train) + [1] * len(positives_train))"
   ]
  },
  {
   "cell_type": "code",
   "execution_count": 3,
   "id": "f4ebe8c8",
   "metadata": {
    "ExecuteTime": {
     "end_time": "2022-10-09T09:40:45.087006Z",
     "start_time": "2022-10-09T09:40:45.056114Z"
    }
   },
   "outputs": [],
   "source": [
    "positives_train_os = np.random.choice(positives_train, size=len(negatives_train))\n",
    "x_train_os = np.concatenate([negatives_train, positives_train_os])\n",
    "y_train_os = np.array([0] * len(negatives_train) + [1] * len(positives_train_os))"
   ]
  },
  {
   "cell_type": "code",
   "execution_count": 4,
   "id": "6495ccf8",
   "metadata": {
    "ExecuteTime": {
     "end_time": "2022-10-09T09:40:47.009502Z",
     "start_time": "2022-10-09T09:40:47.003375Z"
    }
   },
   "outputs": [],
   "source": [
    "negatives_serve = np.random.normal(5,1,8_800)\n",
    "positives_serve = np.random.normal(8,1,1_200)\n",
    "y_serve = np.array([0] * len(negatives_serve) + [1] * len(positives_serve))\n",
    "x_serve = np.concatenate([negatives_serve, positives_serve])"
   ]
  },
  {
   "cell_type": "code",
   "execution_count": 6,
   "id": "e317fe2a",
   "metadata": {
    "ExecuteTime": {
     "end_time": "2022-10-09T09:43:04.541602Z",
     "start_time": "2022-10-09T09:43:03.315596Z"
    }
   },
   "outputs": [],
   "source": [
    "# \"training\" our model on the original dataset\n",
    "from sklearn.metrics import log_loss\n",
    "ts = np.linspace(np.min(x_train), np.max(x_train), 100)\n",
    "log_loss_train = [log_loss(y_train, x_train >= t) for t in ts]\n",
    "best_thres_train = ts[np.argmin(log_loss_train)]"
   ]
  },
  {
   "cell_type": "code",
   "execution_count": 7,
   "id": "74561f7f",
   "metadata": {
    "ExecuteTime": {
     "end_time": "2022-10-09T09:43:26.937352Z",
     "start_time": "2022-10-09T09:43:24.343566Z"
    }
   },
   "outputs": [],
   "source": [
    "# \"training\" our model on the original dataset\n",
    "log_loss_train_os = [log_loss(y_train_os, x_train_os >= t) for t in ts]\n",
    "best_thres_train_os = ts[np.argmin(log_loss_train_os)]"
   ]
  },
  {
   "cell_type": "code",
   "execution_count": null,
   "id": "47e8ea7d",
   "metadata": {},
   "outputs": [],
   "source": []
  }
 ],
 "metadata": {
  "kernelspec": {
   "display_name": "Python 3 (ipykernel)",
   "language": "python",
   "name": "python3"
  },
  "language_info": {
   "codemirror_mode": {
    "name": "ipython",
    "version": 3
   },
   "file_extension": ".py",
   "mimetype": "text/x-python",
   "name": "python",
   "nbconvert_exporter": "python",
   "pygments_lexer": "ipython3",
   "version": "3.9.13"
  }
 },
 "nbformat": 4,
 "nbformat_minor": 5
}
