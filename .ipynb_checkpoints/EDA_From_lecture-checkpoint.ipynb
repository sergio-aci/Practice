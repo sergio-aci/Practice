{
 "cells": [
  {
   "cell_type": "markdown",
   "metadata": {
    "hide_input": true,
    "id": "ygMqu2tWr2DI"
   },
   "source": [
    "<font size=10><b>Exploratory Data Analysis (EDA)</b></font> "
   ]
  },
  {
   "cell_type": "code",
   "execution_count": 1,
   "metadata": {
    "ExecuteTime": {
     "end_time": "2021-04-10T11:59:36.488803Z",
     "start_time": "2021-04-10T11:59:35.600391Z"
    }
   },
   "outputs": [],
   "source": [
    "import numpy as np\n",
    "import pandas as pd\n",
    "import matplotlib.pyplot as plt"
   ]
  },
  {
   "cell_type": "markdown",
   "metadata": {
    "id": "Z6inomqXr2DJ"
   },
   "source": [
    "# (Work)Sheet just got real\n",
    "Now it's time to get a taste of real Exploratory Data Analysis, with all of the tools that we gathered so far.\n",
    "In the following sessions you will start working with data, and start our data exploration and preprocessing phase. \n",
    "\n",
    "Preprocessing for what? For Data Science and Machine learning models 💪!\n",
    "\n",
    "download the file from http://biostat.mc.vanderbilt.edu/wiki/pub/Main/DataSets/titanic3.xls, and read it as a pandas dataframe\n",
    "\n",
    "Column description:\n",
    "- survival: Survival (0 = no; 1 = yes)\n",
    "- pclass: Passenger class (1 = first; 2 = second; 3 = third)\n",
    "- name: Name\n",
    "- sex: Sex\n",
    "- age: Age\n",
    "- sibsp: Number of siblings/spouses aboard\n",
    "- parch: Number of parents/children aboard\n",
    "- ticket: Ticket number\n",
    "- fare: Passenger fare\n",
    "- cabin: Cabin\n",
    "- embarked: Port of embarkation (C = Cherbourg; Q = Queenstown; S = Southampton)\n",
    "- boat: Lifeboat (if survived)\n",
    "- body: Body number (if did not survive and body was recovered)\n",
    "\n",
    "This is called a **data dictionary**. If you are not the domain expert of your problem, you MUST get one of these from a domain expert / business stakeholder. You should know what your data should look like, acceptable ranges of values, types of values, meaning of each column etc...\n",
    "\n",
    "Use the time you have to explore it and derive conclusions. The ultimate goal is to predict which of these people survived, but for now - Anything interesting you can say about the data? Plot it, dissect it, be creative. **GO**"
   ]
  },
  {
   "cell_type": "markdown",
   "metadata": {
    "id": "Yozm05V7r2DR"
   },
   "source": [
    "# Titanic data"
   ]
  },
  {
   "cell_type": "markdown",
   "metadata": {
    "id": "2I-DNmKSr2DS"
   },
   "source": [
    "## Import the data"
   ]
  },
  {
   "cell_type": "markdown",
   "metadata": {
    "id": "IGTx0n3Jr2DS"
   },
   "source": [
    "As mentioned before, it is **always** a good idea to look at the head of the data, to see that all the column names and the values are aligned, and contain what we expect. \n",
    "Also, look at the dimensions of the data:"
   ]
  },
  {
   "cell_type": "code",
   "execution_count": 2,
   "metadata": {
    "ExecuteTime": {
     "end_time": "2021-04-10T11:59:43.083839Z",
     "start_time": "2021-04-10T11:59:42.978861Z"
    },
    "id": "yMcevof3r2DS",
    "scrolled": true
   },
   "outputs": [
    {
     "data": {
      "text/html": [
       "<div>\n",
       "<style scoped>\n",
       "    .dataframe tbody tr th:only-of-type {\n",
       "        vertical-align: middle;\n",
       "    }\n",
       "\n",
       "    .dataframe tbody tr th {\n",
       "        vertical-align: top;\n",
       "    }\n",
       "\n",
       "    .dataframe thead th {\n",
       "        text-align: right;\n",
       "    }\n",
       "</style>\n",
       "<table border=\"1\" class=\"dataframe\">\n",
       "  <thead>\n",
       "    <tr style=\"text-align: right;\">\n",
       "      <th></th>\n",
       "      <th>pclass</th>\n",
       "      <th>survived</th>\n",
       "      <th>name</th>\n",
       "      <th>sex</th>\n",
       "      <th>age</th>\n",
       "      <th>sibsp</th>\n",
       "      <th>parch</th>\n",
       "      <th>ticket</th>\n",
       "      <th>fare</th>\n",
       "      <th>cabin</th>\n",
       "      <th>embarked</th>\n",
       "      <th>boat</th>\n",
       "      <th>body</th>\n",
       "      <th>home.dest</th>\n",
       "    </tr>\n",
       "  </thead>\n",
       "  <tbody>\n",
       "    <tr>\n",
       "      <th>0</th>\n",
       "      <td>1</td>\n",
       "      <td>1</td>\n",
       "      <td>Allen, Miss. Elisabeth Walton</td>\n",
       "      <td>female</td>\n",
       "      <td>29.0000</td>\n",
       "      <td>0</td>\n",
       "      <td>0</td>\n",
       "      <td>24160</td>\n",
       "      <td>211.3375</td>\n",
       "      <td>B5</td>\n",
       "      <td>S</td>\n",
       "      <td>2</td>\n",
       "      <td>NaN</td>\n",
       "      <td>St Louis, MO</td>\n",
       "    </tr>\n",
       "    <tr>\n",
       "      <th>1</th>\n",
       "      <td>1</td>\n",
       "      <td>1</td>\n",
       "      <td>Allison, Master. Hudson Trevor</td>\n",
       "      <td>male</td>\n",
       "      <td>0.9167</td>\n",
       "      <td>1</td>\n",
       "      <td>2</td>\n",
       "      <td>113781</td>\n",
       "      <td>151.5500</td>\n",
       "      <td>C22 C26</td>\n",
       "      <td>S</td>\n",
       "      <td>11</td>\n",
       "      <td>NaN</td>\n",
       "      <td>Montreal, PQ / Chesterville, ON</td>\n",
       "    </tr>\n",
       "    <tr>\n",
       "      <th>2</th>\n",
       "      <td>1</td>\n",
       "      <td>0</td>\n",
       "      <td>Allison, Miss. Helen Loraine</td>\n",
       "      <td>female</td>\n",
       "      <td>2.0000</td>\n",
       "      <td>1</td>\n",
       "      <td>2</td>\n",
       "      <td>113781</td>\n",
       "      <td>151.5500</td>\n",
       "      <td>C22 C26</td>\n",
       "      <td>S</td>\n",
       "      <td>NaN</td>\n",
       "      <td>NaN</td>\n",
       "      <td>Montreal, PQ / Chesterville, ON</td>\n",
       "    </tr>\n",
       "    <tr>\n",
       "      <th>3</th>\n",
       "      <td>1</td>\n",
       "      <td>0</td>\n",
       "      <td>Allison, Mr. Hudson Joshua Creighton</td>\n",
       "      <td>male</td>\n",
       "      <td>30.0000</td>\n",
       "      <td>1</td>\n",
       "      <td>2</td>\n",
       "      <td>113781</td>\n",
       "      <td>151.5500</td>\n",
       "      <td>C22 C26</td>\n",
       "      <td>S</td>\n",
       "      <td>NaN</td>\n",
       "      <td>135.0</td>\n",
       "      <td>Montreal, PQ / Chesterville, ON</td>\n",
       "    </tr>\n",
       "    <tr>\n",
       "      <th>4</th>\n",
       "      <td>1</td>\n",
       "      <td>0</td>\n",
       "      <td>Allison, Mrs. Hudson J C (Bessie Waldo Daniels)</td>\n",
       "      <td>female</td>\n",
       "      <td>25.0000</td>\n",
       "      <td>1</td>\n",
       "      <td>2</td>\n",
       "      <td>113781</td>\n",
       "      <td>151.5500</td>\n",
       "      <td>C22 C26</td>\n",
       "      <td>S</td>\n",
       "      <td>NaN</td>\n",
       "      <td>NaN</td>\n",
       "      <td>Montreal, PQ / Chesterville, ON</td>\n",
       "    </tr>\n",
       "  </tbody>\n",
       "</table>\n",
       "</div>"
      ],
      "text/plain": [
       "   pclass  survived                                             name     sex  \\\n",
       "0       1         1                    Allen, Miss. Elisabeth Walton  female   \n",
       "1       1         1                   Allison, Master. Hudson Trevor    male   \n",
       "2       1         0                     Allison, Miss. Helen Loraine  female   \n",
       "3       1         0             Allison, Mr. Hudson Joshua Creighton    male   \n",
       "4       1         0  Allison, Mrs. Hudson J C (Bessie Waldo Daniels)  female   \n",
       "\n",
       "       age  sibsp  parch  ticket      fare    cabin embarked boat   body  \\\n",
       "0  29.0000      0      0   24160  211.3375       B5        S    2    NaN   \n",
       "1   0.9167      1      2  113781  151.5500  C22 C26        S   11    NaN   \n",
       "2   2.0000      1      2  113781  151.5500  C22 C26        S  NaN    NaN   \n",
       "3  30.0000      1      2  113781  151.5500  C22 C26        S  NaN  135.0   \n",
       "4  25.0000      1      2  113781  151.5500  C22 C26        S  NaN    NaN   \n",
       "\n",
       "                         home.dest  \n",
       "0                     St Louis, MO  \n",
       "1  Montreal, PQ / Chesterville, ON  \n",
       "2  Montreal, PQ / Chesterville, ON  \n",
       "3  Montreal, PQ / Chesterville, ON  \n",
       "4  Montreal, PQ / Chesterville, ON  "
      ]
     },
     "execution_count": 2,
     "metadata": {},
     "output_type": "execute_result"
    }
   ],
   "source": [
    "import pandas as pd\n",
    "\n",
    "df = pd.read_excel('titanic3.xls')\n",
    "df.head()"
   ]
  },
  {
   "cell_type": "code",
   "execution_count": 3,
   "metadata": {
    "ExecuteTime": {
     "end_time": "2021-04-10T11:59:44.830748Z",
     "start_time": "2021-04-10T11:59:44.826063Z"
    },
    "id": "BqW_kZ3ur2DT"
   },
   "outputs": [
    {
     "data": {
      "text/plain": [
       "(1309, 14)"
      ]
     },
     "execution_count": 3,
     "metadata": {},
     "output_type": "execute_result"
    }
   ],
   "source": [
    "df.shape"
   ]
  },
  {
   "cell_type": "markdown",
   "metadata": {
    "id": "nK7V-PsYr2DT"
   },
   "source": [
    "This means that we have 1309 rows (samples), and 14 columns (features)"
   ]
  },
  {
   "cell_type": "markdown",
   "metadata": {
    "id": "68NB0qJmr2DU"
   },
   "source": [
    "## Define - what is my business problem?"
   ]
  },
  {
   "cell_type": "markdown",
   "metadata": {
    "id": "5tLqnrX2r2DU"
   },
   "source": [
    "What do I want to predict? Do I have the right data for it? "
   ]
  },
  {
   "cell_type": "markdown",
   "metadata": {
    "id": "dzI1yYEur2DU"
   },
   "source": [
    "## Define - which of the features is the dependent feature?"
   ]
  },
  {
   "cell_type": "markdown",
   "metadata": {
    "id": "EOHE-LPtr2DV"
   },
   "source": [
    "We should decide which feature is the dependent feature - what will we try to predict in the future? This will be important for decisions we make along the way.\n",
    "\n",
    "The dependent variable has to be the answer to your business problem.\n",
    "\n",
    "In the Titanic dataset case, the business problem is predicting who survived. So, the dependent feature (AKA target feature) is `survived`. It is a binary vector, where 1 stands for \"Survived\" and 0 stands for \"Did not survive\".\n",
    "\n",
    "The rest of the columns will be called \"features\" or \"independent variables\"."
   ]
  },
  {
   "cell_type": "markdown",
   "metadata": {
    "id": "l-WjBNPSr2DV"
   },
   "source": [
    "## General summary statistics"
   ]
  },
  {
   "cell_type": "markdown",
   "metadata": {
    "id": "Afw_RVK1r2DV"
   },
   "source": [
    "Another important thing to do, just to get an idea of what our data looks like, is to explore general summary statistics, as well as the contents of each columns (checking for missing values, datatype)"
   ]
  },
  {
   "cell_type": "code",
   "execution_count": 4,
   "metadata": {
    "ExecuteTime": {
     "end_time": "2021-04-10T11:59:48.917715Z",
     "start_time": "2021-04-10T11:59:48.887483Z"
    },
    "id": "fB7Z-LzZr2DW"
   },
   "outputs": [
    {
     "data": {
      "text/html": [
       "<div>\n",
       "<style scoped>\n",
       "    .dataframe tbody tr th:only-of-type {\n",
       "        vertical-align: middle;\n",
       "    }\n",
       "\n",
       "    .dataframe tbody tr th {\n",
       "        vertical-align: top;\n",
       "    }\n",
       "\n",
       "    .dataframe thead th {\n",
       "        text-align: right;\n",
       "    }\n",
       "</style>\n",
       "<table border=\"1\" class=\"dataframe\">\n",
       "  <thead>\n",
       "    <tr style=\"text-align: right;\">\n",
       "      <th></th>\n",
       "      <th>pclass</th>\n",
       "      <th>survived</th>\n",
       "      <th>age</th>\n",
       "      <th>sibsp</th>\n",
       "      <th>parch</th>\n",
       "      <th>fare</th>\n",
       "      <th>body</th>\n",
       "    </tr>\n",
       "  </thead>\n",
       "  <tbody>\n",
       "    <tr>\n",
       "      <th>count</th>\n",
       "      <td>1309.000000</td>\n",
       "      <td>1309.000000</td>\n",
       "      <td>1046.000000</td>\n",
       "      <td>1309.000000</td>\n",
       "      <td>1309.000000</td>\n",
       "      <td>1308.000000</td>\n",
       "      <td>121.000000</td>\n",
       "    </tr>\n",
       "    <tr>\n",
       "      <th>mean</th>\n",
       "      <td>2.294882</td>\n",
       "      <td>0.381971</td>\n",
       "      <td>29.881135</td>\n",
       "      <td>0.498854</td>\n",
       "      <td>0.385027</td>\n",
       "      <td>33.295479</td>\n",
       "      <td>160.809917</td>\n",
       "    </tr>\n",
       "    <tr>\n",
       "      <th>std</th>\n",
       "      <td>0.837836</td>\n",
       "      <td>0.486055</td>\n",
       "      <td>14.413500</td>\n",
       "      <td>1.041658</td>\n",
       "      <td>0.865560</td>\n",
       "      <td>51.758668</td>\n",
       "      <td>97.696922</td>\n",
       "    </tr>\n",
       "    <tr>\n",
       "      <th>min</th>\n",
       "      <td>1.000000</td>\n",
       "      <td>0.000000</td>\n",
       "      <td>0.166700</td>\n",
       "      <td>0.000000</td>\n",
       "      <td>0.000000</td>\n",
       "      <td>0.000000</td>\n",
       "      <td>1.000000</td>\n",
       "    </tr>\n",
       "    <tr>\n",
       "      <th>25%</th>\n",
       "      <td>2.000000</td>\n",
       "      <td>0.000000</td>\n",
       "      <td>21.000000</td>\n",
       "      <td>0.000000</td>\n",
       "      <td>0.000000</td>\n",
       "      <td>7.895800</td>\n",
       "      <td>72.000000</td>\n",
       "    </tr>\n",
       "    <tr>\n",
       "      <th>50%</th>\n",
       "      <td>3.000000</td>\n",
       "      <td>0.000000</td>\n",
       "      <td>28.000000</td>\n",
       "      <td>0.000000</td>\n",
       "      <td>0.000000</td>\n",
       "      <td>14.454200</td>\n",
       "      <td>155.000000</td>\n",
       "    </tr>\n",
       "    <tr>\n",
       "      <th>75%</th>\n",
       "      <td>3.000000</td>\n",
       "      <td>1.000000</td>\n",
       "      <td>39.000000</td>\n",
       "      <td>1.000000</td>\n",
       "      <td>0.000000</td>\n",
       "      <td>31.275000</td>\n",
       "      <td>256.000000</td>\n",
       "    </tr>\n",
       "    <tr>\n",
       "      <th>max</th>\n",
       "      <td>3.000000</td>\n",
       "      <td>1.000000</td>\n",
       "      <td>80.000000</td>\n",
       "      <td>8.000000</td>\n",
       "      <td>9.000000</td>\n",
       "      <td>512.329200</td>\n",
       "      <td>328.000000</td>\n",
       "    </tr>\n",
       "  </tbody>\n",
       "</table>\n",
       "</div>"
      ],
      "text/plain": [
       "            pclass     survived          age        sibsp        parch  \\\n",
       "count  1309.000000  1309.000000  1046.000000  1309.000000  1309.000000   \n",
       "mean      2.294882     0.381971    29.881135     0.498854     0.385027   \n",
       "std       0.837836     0.486055    14.413500     1.041658     0.865560   \n",
       "min       1.000000     0.000000     0.166700     0.000000     0.000000   \n",
       "25%       2.000000     0.000000    21.000000     0.000000     0.000000   \n",
       "50%       3.000000     0.000000    28.000000     0.000000     0.000000   \n",
       "75%       3.000000     1.000000    39.000000     1.000000     0.000000   \n",
       "max       3.000000     1.000000    80.000000     8.000000     9.000000   \n",
       "\n",
       "              fare        body  \n",
       "count  1308.000000  121.000000  \n",
       "mean     33.295479  160.809917  \n",
       "std      51.758668   97.696922  \n",
       "min       0.000000    1.000000  \n",
       "25%       7.895800   72.000000  \n",
       "50%      14.454200  155.000000  \n",
       "75%      31.275000  256.000000  \n",
       "max     512.329200  328.000000  "
      ]
     },
     "execution_count": 4,
     "metadata": {},
     "output_type": "execute_result"
    }
   ],
   "source": [
    "df.describe()"
   ]
  },
  {
   "cell_type": "code",
   "execution_count": 5,
   "metadata": {
    "ExecuteTime": {
     "end_time": "2021-04-10T11:59:51.185751Z",
     "start_time": "2021-04-10T11:59:51.171409Z"
    },
    "id": "dXFgFasPr2DW"
   },
   "outputs": [
    {
     "name": "stdout",
     "output_type": "stream",
     "text": [
      "<class 'pandas.core.frame.DataFrame'>\n",
      "RangeIndex: 1309 entries, 0 to 1308\n",
      "Data columns (total 14 columns):\n",
      " #   Column     Non-Null Count  Dtype  \n",
      "---  ------     --------------  -----  \n",
      " 0   pclass     1309 non-null   int64  \n",
      " 1   survived   1309 non-null   int64  \n",
      " 2   name       1309 non-null   object \n",
      " 3   sex        1309 non-null   object \n",
      " 4   age        1046 non-null   float64\n",
      " 5   sibsp      1309 non-null   int64  \n",
      " 6   parch      1309 non-null   int64  \n",
      " 7   ticket     1309 non-null   object \n",
      " 8   fare       1308 non-null   float64\n",
      " 9   cabin      295 non-null    object \n",
      " 10  embarked   1307 non-null   object \n",
      " 11  boat       486 non-null    object \n",
      " 12  body       121 non-null    float64\n",
      " 13  home.dest  745 non-null    object \n",
      "dtypes: float64(3), int64(4), object(7)\n",
      "memory usage: 143.3+ KB\n"
     ]
    }
   ],
   "source": [
    "df.info()"
   ]
  },
  {
   "cell_type": "markdown",
   "metadata": {
    "id": "TQz0lsigr2DW"
   },
   "source": [
    "What can we say about the data?\n",
    "\n",
    "We will deal with the missing values in the next session."
   ]
  },
  {
   "cell_type": "markdown",
   "metadata": {
    "id": "v-BfgyO8r2DW"
   },
   "source": [
    "## Division to Numerical, and Categorical features"
   ]
  },
  {
   "cell_type": "markdown",
   "metadata": {
    "id": "iOy5lyVhr2DX"
   },
   "source": [
    "Before we keep exploring our data, we should mentally divide the features into two main groups - Numerical features and Categorical features.\n",
    "\n",
    "**Categorical features** are features that represent fixed amount of categories. Most of the time these values will be textual, with or without meaning to order within the categories, but sometimes the data can be numerical. \n",
    "Categorical features can be either **nominal** (with no meaning to the order), or **ordinal** (with meaning to the order)\n",
    "\n",
    "**Numerical features** are all features with values within a certain range of numbers. These features are always numerical (`int`, `float`, etc...). They can be **continuous or discrete**"
   ]
  },
  {
   "cell_type": "markdown",
   "metadata": {
    "id": "u2m3S02zr2DX"
   },
   "source": [
    "How would you divide the features from the Titanic data?"
   ]
  },
  {
   "cell_type": "markdown",
   "metadata": {
    "id": "WmXiDbMbr2DX"
   },
   "source": [
    "## Data integrity"
   ]
  },
  {
   "cell_type": "markdown",
   "metadata": {
    "id": "xBaLUbHEr2DY"
   },
   "source": [
    "It is very important that you check for data integrity:\n",
    "\n",
    " 1. If your data dictionary states that a column should have certain values and it doesn't - raise a flag\n",
    " 2. If you have columns that are dependent of each other but the data does not present this connection - raise a flag\n",
    " 3. If you have any duplicates - raise a flag / take care of it\n",
    " 4. If you have rows with the same independent features but different dependent feature - raise a flag. Your model will not know how to deal with this.\n",
    " \n",
    "In our data, one connection is between the `survived` and the `body` column. If there is a body number, it means that the person did not survive. We need to check that that is indeed the case:"
   ]
  },
  {
   "cell_type": "code",
   "execution_count": 6,
   "metadata": {
    "ExecuteTime": {
     "end_time": "2021-04-04T14:18:50.914557Z",
     "start_time": "2021-04-04T14:18:50.901082Z"
    },
    "id": "omj2V2Xqr2DZ"
   },
   "outputs": [],
   "source": [
    "assert(df.loc[df['survived'] == 1, 'body'].isnull()).all()"
   ]
  },
  {
   "cell_type": "code",
   "execution_count": 7,
   "metadata": {
    "ExecuteTime": {
     "end_time": "2021-04-04T14:18:50.919019Z",
     "start_time": "2021-04-04T14:18:50.915828Z"
    },
    "id": "aEcpm_MEr2DZ"
   },
   "outputs": [],
   "source": [
    "assert(df.loc[df['body'].notnull(), 'survived'] == False).all()   # False = 0"
   ]
  },
  {
   "cell_type": "markdown",
   "metadata": {
    "id": "-Q8L6hOmr2Da"
   },
   "source": [
    "Let's also check that the age range for the passengers in between 0-120, if we will have negative values, it will be an issue:"
   ]
  },
  {
   "cell_type": "code",
   "execution_count": 8,
   "metadata": {
    "ExecuteTime": {
     "end_time": "2021-04-04T14:18:50.937766Z",
     "start_time": "2021-04-04T14:18:50.921113Z"
    },
    "id": "UOudPXj5r2Da"
   },
   "outputs": [
    {
     "data": {
      "text/plain": [
       "min     0.1667\n",
       "max    80.0000\n",
       "Name: age, dtype: float64"
      ]
     },
     "execution_count": 8,
     "metadata": {},
     "output_type": "execute_result"
    }
   ],
   "source": [
    "df.describe().loc[['min', 'max'], 'age']"
   ]
  },
  {
   "cell_type": "code",
   "execution_count": 9,
   "metadata": {
    "ExecuteTime": {
     "end_time": "2021-04-04T14:18:50.944086Z",
     "start_time": "2021-04-04T14:18:50.940113Z"
    }
   },
   "outputs": [
    {
     "data": {
      "text/plain": [
       "{'C', 'Q', 'S', nan}"
      ]
     },
     "execution_count": 9,
     "metadata": {},
     "output_type": "execute_result"
    }
   ],
   "source": [
    "set(df[\"embarked\"])"
   ]
  },
  {
   "cell_type": "code",
   "execution_count": 10,
   "metadata": {
    "ExecuteTime": {
     "end_time": "2021-04-04T14:18:50.973022Z",
     "start_time": "2021-04-04T14:18:50.946483Z"
    },
    "scrolled": true
   },
   "outputs": [
    {
     "data": {
      "text/html": [
       "<div>\n",
       "<style scoped>\n",
       "    .dataframe tbody tr th:only-of-type {\n",
       "        vertical-align: middle;\n",
       "    }\n",
       "\n",
       "    .dataframe tbody tr th {\n",
       "        vertical-align: top;\n",
       "    }\n",
       "\n",
       "    .dataframe thead th {\n",
       "        text-align: right;\n",
       "    }\n",
       "</style>\n",
       "<table border=\"1\" class=\"dataframe\">\n",
       "  <thead>\n",
       "    <tr style=\"text-align: right;\">\n",
       "      <th></th>\n",
       "      <th>pclass</th>\n",
       "      <th>survived</th>\n",
       "      <th>age</th>\n",
       "      <th>sibsp</th>\n",
       "      <th>parch</th>\n",
       "      <th>fare</th>\n",
       "      <th>body</th>\n",
       "    </tr>\n",
       "  </thead>\n",
       "  <tbody>\n",
       "    <tr>\n",
       "      <th>count</th>\n",
       "      <td>1309.000000</td>\n",
       "      <td>1309.000000</td>\n",
       "      <td>1046.000000</td>\n",
       "      <td>1309.000000</td>\n",
       "      <td>1309.000000</td>\n",
       "      <td>1308.000000</td>\n",
       "      <td>121.000000</td>\n",
       "    </tr>\n",
       "    <tr>\n",
       "      <th>mean</th>\n",
       "      <td>2.294882</td>\n",
       "      <td>0.381971</td>\n",
       "      <td>29.881135</td>\n",
       "      <td>0.498854</td>\n",
       "      <td>0.385027</td>\n",
       "      <td>33.295479</td>\n",
       "      <td>160.809917</td>\n",
       "    </tr>\n",
       "    <tr>\n",
       "      <th>std</th>\n",
       "      <td>0.837836</td>\n",
       "      <td>0.486055</td>\n",
       "      <td>14.413500</td>\n",
       "      <td>1.041658</td>\n",
       "      <td>0.865560</td>\n",
       "      <td>51.758668</td>\n",
       "      <td>97.696922</td>\n",
       "    </tr>\n",
       "    <tr>\n",
       "      <th>min</th>\n",
       "      <td>1.000000</td>\n",
       "      <td>0.000000</td>\n",
       "      <td>0.166700</td>\n",
       "      <td>0.000000</td>\n",
       "      <td>0.000000</td>\n",
       "      <td>0.000000</td>\n",
       "      <td>1.000000</td>\n",
       "    </tr>\n",
       "    <tr>\n",
       "      <th>25%</th>\n",
       "      <td>2.000000</td>\n",
       "      <td>0.000000</td>\n",
       "      <td>21.000000</td>\n",
       "      <td>0.000000</td>\n",
       "      <td>0.000000</td>\n",
       "      <td>7.895800</td>\n",
       "      <td>72.000000</td>\n",
       "    </tr>\n",
       "    <tr>\n",
       "      <th>50%</th>\n",
       "      <td>3.000000</td>\n",
       "      <td>0.000000</td>\n",
       "      <td>28.000000</td>\n",
       "      <td>0.000000</td>\n",
       "      <td>0.000000</td>\n",
       "      <td>14.454200</td>\n",
       "      <td>155.000000</td>\n",
       "    </tr>\n",
       "    <tr>\n",
       "      <th>75%</th>\n",
       "      <td>3.000000</td>\n",
       "      <td>1.000000</td>\n",
       "      <td>39.000000</td>\n",
       "      <td>1.000000</td>\n",
       "      <td>0.000000</td>\n",
       "      <td>31.275000</td>\n",
       "      <td>256.000000</td>\n",
       "    </tr>\n",
       "    <tr>\n",
       "      <th>max</th>\n",
       "      <td>3.000000</td>\n",
       "      <td>1.000000</td>\n",
       "      <td>80.000000</td>\n",
       "      <td>8.000000</td>\n",
       "      <td>9.000000</td>\n",
       "      <td>512.329200</td>\n",
       "      <td>328.000000</td>\n",
       "    </tr>\n",
       "  </tbody>\n",
       "</table>\n",
       "</div>"
      ],
      "text/plain": [
       "            pclass     survived          age        sibsp        parch  \\\n",
       "count  1309.000000  1309.000000  1046.000000  1309.000000  1309.000000   \n",
       "mean      2.294882     0.381971    29.881135     0.498854     0.385027   \n",
       "std       0.837836     0.486055    14.413500     1.041658     0.865560   \n",
       "min       1.000000     0.000000     0.166700     0.000000     0.000000   \n",
       "25%       2.000000     0.000000    21.000000     0.000000     0.000000   \n",
       "50%       3.000000     0.000000    28.000000     0.000000     0.000000   \n",
       "75%       3.000000     1.000000    39.000000     1.000000     0.000000   \n",
       "max       3.000000     1.000000    80.000000     8.000000     9.000000   \n",
       "\n",
       "              fare        body  \n",
       "count  1308.000000  121.000000  \n",
       "mean     33.295479  160.809917  \n",
       "std      51.758668   97.696922  \n",
       "min       0.000000    1.000000  \n",
       "25%       7.895800   72.000000  \n",
       "50%      14.454200  155.000000  \n",
       "75%      31.275000  256.000000  \n",
       "max     512.329200  328.000000  "
      ]
     },
     "execution_count": 10,
     "metadata": {},
     "output_type": "execute_result"
    }
   ],
   "source": [
    "df.describe()"
   ]
  },
  {
   "cell_type": "code",
   "execution_count": 11,
   "metadata": {
    "ExecuteTime": {
     "end_time": "2021-04-04T14:18:50.992104Z",
     "start_time": "2021-04-04T14:18:50.974352Z"
    }
   },
   "outputs": [
    {
     "data": {
      "text/plain": [
       "min      0.0000\n",
       "max    512.3292\n",
       "Name: fare, dtype: float64"
      ]
     },
     "execution_count": 11,
     "metadata": {},
     "output_type": "execute_result"
    }
   ],
   "source": [
    "df.describe().loc[[\"min\", \"max\"], \"fare\"]  "
   ]
  },
  {
   "cell_type": "code",
   "execution_count": 12,
   "metadata": {
    "ExecuteTime": {
     "end_time": "2021-04-04T14:18:51.013566Z",
     "start_time": "2021-04-04T14:18:50.993613Z"
    }
   },
   "outputs": [
    {
     "data": {
      "text/html": [
       "<div>\n",
       "<style scoped>\n",
       "    .dataframe tbody tr th:only-of-type {\n",
       "        vertical-align: middle;\n",
       "    }\n",
       "\n",
       "    .dataframe tbody tr th {\n",
       "        vertical-align: top;\n",
       "    }\n",
       "\n",
       "    .dataframe thead th {\n",
       "        text-align: right;\n",
       "    }\n",
       "</style>\n",
       "<table border=\"1\" class=\"dataframe\">\n",
       "  <thead>\n",
       "    <tr style=\"text-align: right;\">\n",
       "      <th></th>\n",
       "      <th>age</th>\n",
       "      <th>fare</th>\n",
       "    </tr>\n",
       "  </thead>\n",
       "  <tbody>\n",
       "    <tr>\n",
       "      <th>min</th>\n",
       "      <td>0.1667</td>\n",
       "      <td>0.0000</td>\n",
       "    </tr>\n",
       "    <tr>\n",
       "      <th>max</th>\n",
       "      <td>80.0000</td>\n",
       "      <td>512.3292</td>\n",
       "    </tr>\n",
       "  </tbody>\n",
       "</table>\n",
       "</div>"
      ],
      "text/plain": [
       "         age      fare\n",
       "min   0.1667    0.0000\n",
       "max  80.0000  512.3292"
      ]
     },
     "execution_count": 12,
     "metadata": {},
     "output_type": "execute_result"
    }
   ],
   "source": [
    "df.describe().loc[[\"min\", \"max\"], [\"age\", \"fare\"]]  # age and fare in one hit"
   ]
  },
  {
   "cell_type": "code",
   "execution_count": 13,
   "metadata": {
    "ExecuteTime": {
     "end_time": "2021-04-04T14:18:51.019550Z",
     "start_time": "2021-04-04T14:18:51.015423Z"
    }
   },
   "outputs": [
    {
     "data": {
      "text/plain": [
       "{0, 1, 2, 3, 4, 5, 8}"
      ]
     },
     "execution_count": 13,
     "metadata": {},
     "output_type": "execute_result"
    }
   ],
   "source": [
    "set(df[\"sibsp\"])  # extra checks (list is not exhaustive). Do they make sense?"
   ]
  },
  {
   "cell_type": "markdown",
   "metadata": {
    "id": "Nw-OnXz-r2Da"
   },
   "source": [
    "## Data distribution against the dependent variable"
   ]
  },
  {
   "cell_type": "markdown",
   "metadata": {
    "id": "6cLPPBl3r2Db"
   },
   "source": [
    "Often, it is useful to look at the independent features, in comparison to the dependent variable, to see any immediate relations, get a feeling of that to expect, and derive business conclusions for our business stake-holders."
   ]
  },
  {
   "cell_type": "markdown",
   "metadata": {
    "id": "0oUazl5Fr2Db"
   },
   "source": [
    "### Categorical features"
   ]
  },
  {
   "cell_type": "code",
   "execution_count": 14,
   "metadata": {
    "ExecuteTime": {
     "end_time": "2021-04-04T14:18:51.068137Z",
     "start_time": "2021-04-04T14:18:51.021350Z"
    },
    "id": "krPbp45fr2Dc"
   },
   "outputs": [
    {
     "name": "stdout",
     "output_type": "stream",
     "text": [
      "survived     0     1\n",
      "pclass              \n",
      "1         0.38  0.62\n",
      "2         0.57  0.43\n",
      "3         0.74  0.26 \n",
      "\n",
      "\n",
      "survived     0     1\n",
      "sex                 \n",
      "female    0.27  0.73\n",
      "male      0.81  0.19 \n",
      "\n",
      "\n",
      "survived     0     1\n",
      "embarked            \n",
      "C         0.44  0.56\n",
      "Q         0.64  0.36\n",
      "S         0.67  0.33 \n",
      "\n",
      "\n"
     ]
    }
   ],
   "source": [
    "# crosstab percentage tables for the categorical variables X survived\n",
    "cat_vars = ['pclass', 'sex','embarked']\n",
    "for cat_vat in cat_vars:\n",
    "    print(pd.crosstab(df[cat_vat],df['survived']).apply(lambda r: \n",
    "                                                        round(r/r.sum(),2),\n",
    "                                                        axis=1), '\\n\\n')\n"
   ]
  },
  {
   "cell_type": "markdown",
   "metadata": {
    "id": "FXXbRLQ5r2Dc"
   },
   "source": [
    "This is useful, but hard to understand. It would be more beneficial to plot these crosstabs. \n",
    "\n",
    "We will be using `seaborn` and `matplotlib` for visualization."
   ]
  },
  {
   "cell_type": "code",
   "execution_count": 7,
   "metadata": {
    "ExecuteTime": {
     "end_time": "2021-04-10T12:16:59.360143Z",
     "start_time": "2021-04-10T12:16:58.606308Z"
    },
    "id": "yLSUqyGor2Dd"
   },
   "outputs": [],
   "source": [
    "# plotting the crosstabs\n",
    "import seaborn as sns\n",
    "import matplotlib.pyplot as plt\n",
    "%matplotlib inline\n",
    "\n",
    "sns.set(style=\"darkgrid\")"
   ]
  },
  {
   "cell_type": "code",
   "execution_count": 12,
   "metadata": {
    "ExecuteTime": {
     "end_time": "2021-04-10T12:23:58.967846Z",
     "start_time": "2021-04-10T12:23:58.471559Z"
    },
    "id": "e11xpK-2r2Dd"
   },
   "outputs": [
    {
     "data": {
      "image/png": "[encoded data removed]",
      "text/plain": [
       "<Figure size 432x288 with 1 Axes>"
      ]
     },
     "metadata": {},
     "output_type": "display_data"
    },
    {
     "data": {
      "image/png": "[encoded data removed]",
      "text/plain": [
       "<Figure size 432x288 with 1 Axes>"
      ]
     },
     "metadata": {},
     "output_type": "display_data"
    },
    {
     "data": {
      "image/png": "[encoded data removed]",
      "text/plain": [
       "<Figure size 432x288 with 1 Axes>"
      ]
     },
     "metadata": {},
     "output_type": "display_data"
    },
    {
     "data": {
      "image/png": "[encoded data removed]",
      "text/plain": [
       "<Figure size 432x288 with 1 Axes>"
      ]
     },
     "metadata": {},
     "output_type": "display_data"
    }
   ],
   "source": [
    "cat_vars = ['pclass', 'sex','embarked']\n",
    "\n",
    "sns.countplot(x = df[\"survived\"], data=df)\n",
    "plt.title('Distribution of Survived')\n",
    "plt.show()\n",
    "\n",
    "for cat_vat in cat_vars:\n",
    "    sns.countplot(x = df[\"survived\"],  hue = df[cat_vat], data=df)\n",
    "    plt.title('Distribution of Survived vs. {cat_vat}')\n",
    "    plt.show()"
   ]
  },
  {
   "cell_type": "code",
   "execution_count": 14,
   "metadata": {
    "ExecuteTime": {
     "end_time": "2021-04-10T12:27:40.775996Z",
     "start_time": "2021-04-10T12:27:40.296408Z"
    }
   },
   "outputs": [
    {
     "data": {
      "image/png": "[encoded data removed]",
      "text/plain": [
       "<Figure size 432x288 with 1 Axes>"
      ]
     },
     "metadata": {},
     "output_type": "display_data"
    },
    {
     "data": {
      "image/png": "[encoded data removed]",
      "text/plain": [
       "<Figure size 432x288 with 1 Axes>"
      ]
     },
     "metadata": {},
     "output_type": "display_data"
    },
    {
     "data": {
      "image/png": "[encoded data removed]",
      "text/plain": [
       "<Figure size 432x288 with 1 Axes>"
      ]
     },
     "metadata": {},
     "output_type": "display_data"
    },
    {
     "data": {
      "image/png": "[encoded data removed]",
      "text/plain": [
       "<Figure size 432x288 with 1 Axes>"
      ]
     },
     "metadata": {},
     "output_type": "display_data"
    }
   ],
   "source": [
    "cat_vars = ['pclass', 'sex','embarked']\n",
    "\n",
    "sns.countplot(x = \"survived\", data=df)\n",
    "plt.title('Distribution of Survived')\n",
    "plt.show()\n",
    "\n",
    "for cat_vat in cat_vars:\n",
    "    sns.countplot(x = cat_vat,  hue = \"survived\", data=df)\n",
    "    plt.title('Distribution of Survived vs. {cat_vat}')\n",
    "    plt.show()"
   ]
  },
  {
   "cell_type": "markdown",
   "metadata": {
    "id": "d5zDhyCYr2De"
   },
   "source": [
    "Another nice way to look at the data, is by percentage, e.g. what is the percentage of the people who survived, were Female? Let's plot the percentage of values. Do not forget to ease your customer by annotating:"
   ]
  },
  {
   "cell_type": "code",
   "execution_count": 17,
   "metadata": {
    "ExecuteTime": {
     "end_time": "2021-04-04T14:18:52.346785Z",
     "start_time": "2021-04-04T14:18:52.180229Z"
    },
    "id": "457SGg2tr2De"
   },
   "outputs": [
    {
     "data": {
      "image/png": "[encoded data removed]",
      "text/plain": [
       "<Figure size 432x288 with 1 Axes>"
      ]
     },
     "metadata": {},
     "output_type": "display_data"
    }
   ],
   "source": [
    "feat = 'embarked'\n",
    "data = pd.DataFrame(pd.crosstab(df[feat],df['survived']).\\\n",
    "                    apply(lambda r: round(r/r.sum(),2), axis=1).unstack()).\\\n",
    "                    reset_index()\n",
    "\n",
    "g = sns.barplot(x = data['survived'], y=data[0], hue = data[feat])\n",
    "plt.title('Distribution of Survived vs. {}\\n'.format(feat))\n",
    "plt.ylabel('%')\n",
    "\n",
    "for p in g.patches:\n",
    "    g.annotate(format(p.get_height(), '.0%'), \\\n",
    "               (p.get_x() + p.get_width() / 2., \\\n",
    "                p.get_height()), \\\n",
    "               ha = 'center', \\\n",
    "               va = 'center', \\\n",
    "               xytext = (0, 10), \\\n",
    "               textcoords = 'offset points')"
   ]
  },
  {
   "cell_type": "markdown",
   "metadata": {
    "id": "--DDrv_ir2De"
   },
   "source": [
    "###### We can see that:    <---- (Conclusions)\n",
    "1. the vast majority of pclass 3 didn't survive. On the contrary, most of pclass 1 survived\n",
    "2. most of the female survived while most of the men didn't\n",
    "3. most of the passengers that embarked in Cherbourg survived, in compare to ~33/36% in the other ports "
   ]
  },
  {
   "cell_type": "markdown",
   "metadata": {
    "id": "AThzywK5r2De"
   },
   "source": [
    "### Numerical features"
   ]
  },
  {
   "cell_type": "markdown",
   "metadata": {
    "id": "M6BHxuyor2Df"
   },
   "source": [
    "For numerical features, it's better to look on survival **rates** (average) and not crosstab with survived"
   ]
  },
  {
   "cell_type": "code",
   "execution_count": 18,
   "metadata": {
    "ExecuteTime": {
     "end_time": "2021-04-04T14:18:52.369792Z",
     "start_time": "2021-04-04T14:18:52.348177Z"
    },
    "id": "xR7hRGPVr2Df",
    "scrolled": true
   },
   "outputs": [
    {
     "data": {
      "text/html": [
       "<div>\n",
       "<style scoped>\n",
       "    .dataframe tbody tr th:only-of-type {\n",
       "        vertical-align: middle;\n",
       "    }\n",
       "\n",
       "    .dataframe tbody tr th {\n",
       "        vertical-align: top;\n",
       "    }\n",
       "\n",
       "    .dataframe thead tr th {\n",
       "        text-align: left;\n",
       "    }\n",
       "\n",
       "    .dataframe thead tr:last-of-type th {\n",
       "        text-align: right;\n",
       "    }\n",
       "</style>\n",
       "<table border=\"1\" class=\"dataframe\">\n",
       "  <thead>\n",
       "    <tr>\n",
       "      <th></th>\n",
       "      <th colspan=\"2\" halign=\"left\">age</th>\n",
       "      <th colspan=\"2\" halign=\"left\">sibsp</th>\n",
       "      <th colspan=\"2\" halign=\"left\">parch</th>\n",
       "      <th colspan=\"2\" halign=\"left\">fare</th>\n",
       "    </tr>\n",
       "    <tr>\n",
       "      <th></th>\n",
       "      <th>mean</th>\n",
       "      <th>median</th>\n",
       "      <th>mean</th>\n",
       "      <th>median</th>\n",
       "      <th>mean</th>\n",
       "      <th>median</th>\n",
       "      <th>mean</th>\n",
       "      <th>median</th>\n",
       "    </tr>\n",
       "    <tr>\n",
       "      <th>survived</th>\n",
       "      <th></th>\n",
       "      <th></th>\n",
       "      <th></th>\n",
       "      <th></th>\n",
       "      <th></th>\n",
       "      <th></th>\n",
       "      <th></th>\n",
       "      <th></th>\n",
       "    </tr>\n",
       "  </thead>\n",
       "  <tbody>\n",
       "    <tr>\n",
       "      <th>0</th>\n",
       "      <td>30.545369</td>\n",
       "      <td>28.0</td>\n",
       "      <td>0.521632</td>\n",
       "      <td>0</td>\n",
       "      <td>0.328801</td>\n",
       "      <td>0</td>\n",
       "      <td>23.353831</td>\n",
       "      <td>10.5</td>\n",
       "    </tr>\n",
       "    <tr>\n",
       "      <th>1</th>\n",
       "      <td>28.918228</td>\n",
       "      <td>28.0</td>\n",
       "      <td>0.462000</td>\n",
       "      <td>0</td>\n",
       "      <td>0.476000</td>\n",
       "      <td>0</td>\n",
       "      <td>49.361184</td>\n",
       "      <td>26.0</td>\n",
       "    </tr>\n",
       "  </tbody>\n",
       "</table>\n",
       "</div>"
      ],
      "text/plain": [
       "                age            sibsp            parch              fare       \n",
       "               mean median      mean median      mean median       mean median\n",
       "survived                                                                      \n",
       "0         30.545369   28.0  0.521632      0  0.328801      0  23.353831   10.5\n",
       "1         28.918228   28.0  0.462000      0  0.476000      0  49.361184   26.0"
      ]
     },
     "execution_count": 18,
     "metadata": {},
     "output_type": "execute_result"
    }
   ],
   "source": [
    "# ratio scale data\n",
    "df[['age', 'sibsp', 'parch', 'fare','survived']].groupby('survived')\\\n",
    "                                                      .agg(['mean', 'median'])"
   ]
  },
  {
   "cell_type": "markdown",
   "metadata": {
    "id": "Mhcn0LlPr2Dg"
   },
   "source": [
    "We can see from the centered measures that:\n",
    "1. Age - there is no noticeable difference \n",
    "2. Number of siblings/spouses aboard - mean is larger in those who didn't survive, however distribution is skewed\n",
    "3. Number of parents/children aboard - mean is much larger in those who survived, however distribution is skewed"
   ]
  },
  {
   "cell_type": "markdown",
   "metadata": {
    "id": "Af6puuL9r2Dg"
   },
   "source": [
    "Let's put the data on a plot:"
   ]
  },
  {
   "cell_type": "code",
   "execution_count": 19,
   "metadata": {
    "ExecuteTime": {
     "end_time": "2021-04-04T14:18:53.011514Z",
     "start_time": "2021-04-04T14:18:52.371067Z"
    },
    "id": "5saAtUfXr2Dg",
    "scrolled": false
   },
   "outputs": [
    {
     "data": {
      "image/png": "[encoded data removed]",
      "text/plain": [
       "<Figure size 504x216 with 1 Axes>"
      ]
     },
     "metadata": {},
     "output_type": "display_data"
    },
    {
     "data": {
      "image/png": "[encoded data removed]",
      "text/plain": [
       "<Figure size 432x288 with 1 Axes>"
      ]
     },
     "metadata": {},
     "output_type": "display_data"
    },
    {
     "data": {
      "image/png": "[encoded data removed]",
      "text/plain": [
       "<Figure size 432x288 with 1 Axes>"
      ]
     },
     "metadata": {},
     "output_type": "display_data"
    },
    {
     "data": {
      "image/png": "[encoded data removed]",
      "text/plain": [
       "<Figure size 504x216 with 1 Axes>"
      ]
     },
     "metadata": {},
     "output_type": "display_data"
    }
   ],
   "source": [
    "cont_vars = ['age', 'sibsp', 'parch', 'fare']\n",
    "\n",
    "for cont_var in cont_vars:\n",
    "    if cont_var not in ['sibsp', 'parch']:\n",
    "        df.groupby('survived')[cont_var].plot(kind='kde', figsize=(7, 3))\n",
    "    else: \n",
    "        sns.countplot(x=cont_var, hue=\"survived\", data=df)       \n",
    "    \n",
    "    plt.legend(loc = 'upper right')\n",
    "    plt.title(cont_var + ' density by survived')\n",
    "    plt.xlabel(cont_var)\n",
    "    plt.show()"
   ]
  },
  {
   "cell_type": "markdown",
   "metadata": {
    "id": "YzyIx1Gir2Dh"
   },
   "source": [
    "## Inter-correlations"
   ]
  },
  {
   "cell_type": "markdown",
   "metadata": {
    "id": "S4DlC6hAr2Dh"
   },
   "source": [
    "Another important thing, is looking at the inner correlations between our features. We won't get into why now, but here is the correlation matrix between the numerical features."
   ]
  },
  {
   "cell_type": "markdown",
   "metadata": {
    "id": "erY5wIZdr2Di"
   },
   "source": [
    "### Numerical vs. Numerical"
   ]
  },
  {
   "cell_type": "code",
   "execution_count": 20,
   "metadata": {
    "ExecuteTime": {
     "end_time": "2021-04-04T14:18:53.542652Z",
     "start_time": "2021-04-04T14:18:53.013574Z"
    },
    "id": "3aubzAZVr2Di"
   },
   "outputs": [
    {
     "data": {
      "text/html": [
       "<style  type=\"text/css\" >\n",
       "#T_7aeeb_row0_col0,#T_7aeeb_row1_col1,#T_7aeeb_row1_col5,#T_7aeeb_row2_col2,#T_7aeeb_row3_col3,#T_7aeeb_row3_col4,#T_7aeeb_row4_col3,#T_7aeeb_row4_col4,#T_7aeeb_row4_col5,#T_7aeeb_row5_col1,#T_7aeeb_row5_col4,#T_7aeeb_row5_col5,#T_7aeeb_row6_col6{\n",
       "            color:  green;\n",
       "        }#T_7aeeb_row0_col1,#T_7aeeb_row0_col3,#T_7aeeb_row0_col4,#T_7aeeb_row0_col6,#T_7aeeb_row1_col0,#T_7aeeb_row1_col2,#T_7aeeb_row1_col3,#T_7aeeb_row1_col4,#T_7aeeb_row1_col6,#T_7aeeb_row2_col1,#T_7aeeb_row2_col3,#T_7aeeb_row2_col4,#T_7aeeb_row2_col5,#T_7aeeb_row2_col6,#T_7aeeb_row3_col0,#T_7aeeb_row3_col1,#T_7aeeb_row3_col2,#T_7aeeb_row3_col5,#T_7aeeb_row3_col6,#T_7aeeb_row4_col0,#T_7aeeb_row4_col1,#T_7aeeb_row4_col2,#T_7aeeb_row4_col6,#T_7aeeb_row5_col2,#T_7aeeb_row5_col3,#T_7aeeb_row5_col6,#T_7aeeb_row6_col0,#T_7aeeb_row6_col1,#T_7aeeb_row6_col2,#T_7aeeb_row6_col3,#T_7aeeb_row6_col4,#T_7aeeb_row6_col5{\n",
       "            color:  black;\n",
       "        }#T_7aeeb_row0_col2,#T_7aeeb_row0_col5,#T_7aeeb_row2_col0,#T_7aeeb_row5_col0{\n",
       "            color:  red;\n",
       "        }</style><table id=\"T_7aeeb_\" ><thead>    <tr>        <th class=\"blank level0\" ></th>        <th class=\"col_heading level0 col0\" >pclass</th>        <th class=\"col_heading level0 col1\" >survived</th>        <th class=\"col_heading level0 col2\" >age</th>        <th class=\"col_heading level0 col3\" >sibsp</th>        <th class=\"col_heading level0 col4\" >parch</th>        <th class=\"col_heading level0 col5\" >fare</th>        <th class=\"col_heading level0 col6\" >body</th>    </tr></thead><tbody>\n",
       "                <tr>\n",
       "                        <th id=\"T_7aeeb_level0_row0\" class=\"row_heading level0 row0\" >pclass</th>\n",
       "                        <td id=\"T_7aeeb_row0_col0\" class=\"data row0 col0\" >1.000000</td>\n",
       "                        <td id=\"T_7aeeb_row0_col1\" class=\"data row0 col1\" >-0.312469</td>\n",
       "                        <td id=\"T_7aeeb_row0_col2\" class=\"data row0 col2\" >-0.408106</td>\n",
       "                        <td id=\"T_7aeeb_row0_col3\" class=\"data row0 col3\" >0.060832</td>\n",
       "                        <td id=\"T_7aeeb_row0_col4\" class=\"data row0 col4\" >0.018322</td>\n",
       "                        <td id=\"T_7aeeb_row0_col5\" class=\"data row0 col5\" >-0.558629</td>\n",
       "                        <td id=\"T_7aeeb_row0_col6\" class=\"data row0 col6\" >-0.034642</td>\n",
       "            </tr>\n",
       "            <tr>\n",
       "                        <th id=\"T_7aeeb_level0_row1\" class=\"row_heading level0 row1\" >survived</th>\n",
       "                        <td id=\"T_7aeeb_row1_col0\" class=\"data row1 col0\" >-0.312469</td>\n",
       "                        <td id=\"T_7aeeb_row1_col1\" class=\"data row1 col1\" >1.000000</td>\n",
       "                        <td id=\"T_7aeeb_row1_col2\" class=\"data row1 col2\" >-0.055513</td>\n",
       "                        <td id=\"T_7aeeb_row1_col3\" class=\"data row1 col3\" >-0.027825</td>\n",
       "                        <td id=\"T_7aeeb_row1_col4\" class=\"data row1 col4\" >0.082660</td>\n",
       "                        <td id=\"T_7aeeb_row1_col5\" class=\"data row1 col5\" >0.244265</td>\n",
       "                        <td id=\"T_7aeeb_row1_col6\" class=\"data row1 col6\" >nan</td>\n",
       "            </tr>\n",
       "            <tr>\n",
       "                        <th id=\"T_7aeeb_level0_row2\" class=\"row_heading level0 row2\" >age</th>\n",
       "                        <td id=\"T_7aeeb_row2_col0\" class=\"data row2 col0\" >-0.408106</td>\n",
       "                        <td id=\"T_7aeeb_row2_col1\" class=\"data row2 col1\" >-0.055513</td>\n",
       "                        <td id=\"T_7aeeb_row2_col2\" class=\"data row2 col2\" >1.000000</td>\n",
       "                        <td id=\"T_7aeeb_row2_col3\" class=\"data row2 col3\" >-0.243699</td>\n",
       "                        <td id=\"T_7aeeb_row2_col4\" class=\"data row2 col4\" >-0.150917</td>\n",
       "                        <td id=\"T_7aeeb_row2_col5\" class=\"data row2 col5\" >0.178739</td>\n",
       "                        <td id=\"T_7aeeb_row2_col6\" class=\"data row2 col6\" >0.058809</td>\n",
       "            </tr>\n",
       "            <tr>\n",
       "                        <th id=\"T_7aeeb_level0_row3\" class=\"row_heading level0 row3\" >sibsp</th>\n",
       "                        <td id=\"T_7aeeb_row3_col0\" class=\"data row3 col0\" >0.060832</td>\n",
       "                        <td id=\"T_7aeeb_row3_col1\" class=\"data row3 col1\" >-0.027825</td>\n",
       "                        <td id=\"T_7aeeb_row3_col2\" class=\"data row3 col2\" >-0.243699</td>\n",
       "                        <td id=\"T_7aeeb_row3_col3\" class=\"data row3 col3\" >1.000000</td>\n",
       "                        <td id=\"T_7aeeb_row3_col4\" class=\"data row3 col4\" >0.373587</td>\n",
       "                        <td id=\"T_7aeeb_row3_col5\" class=\"data row3 col5\" >0.160238</td>\n",
       "                        <td id=\"T_7aeeb_row3_col6\" class=\"data row3 col6\" >-0.099961</td>\n",
       "            </tr>\n",
       "            <tr>\n",
       "                        <th id=\"T_7aeeb_level0_row4\" class=\"row_heading level0 row4\" >parch</th>\n",
       "                        <td id=\"T_7aeeb_row4_col0\" class=\"data row4 col0\" >0.018322</td>\n",
       "                        <td id=\"T_7aeeb_row4_col1\" class=\"data row4 col1\" >0.082660</td>\n",
       "                        <td id=\"T_7aeeb_row4_col2\" class=\"data row4 col2\" >-0.150917</td>\n",
       "                        <td id=\"T_7aeeb_row4_col3\" class=\"data row4 col3\" >0.373587</td>\n",
       "                        <td id=\"T_7aeeb_row4_col4\" class=\"data row4 col4\" >1.000000</td>\n",
       "                        <td id=\"T_7aeeb_row4_col5\" class=\"data row4 col5\" >0.221539</td>\n",
       "                        <td id=\"T_7aeeb_row4_col6\" class=\"data row4 col6\" >0.051099</td>\n",
       "            </tr>\n",
       "            <tr>\n",
       "                        <th id=\"T_7aeeb_level0_row5\" class=\"row_heading level0 row5\" >fare</th>\n",
       "                        <td id=\"T_7aeeb_row5_col0\" class=\"data row5 col0\" >-0.558629</td>\n",
       "                        <td id=\"T_7aeeb_row5_col1\" class=\"data row5 col1\" >0.244265</td>\n",
       "                        <td id=\"T_7aeeb_row5_col2\" class=\"data row5 col2\" >0.178739</td>\n",
       "                        <td id=\"T_7aeeb_row5_col3\" class=\"data row5 col3\" >0.160238</td>\n",
       "                        <td id=\"T_7aeeb_row5_col4\" class=\"data row5 col4\" >0.221539</td>\n",
       "                        <td id=\"T_7aeeb_row5_col5\" class=\"data row5 col5\" >1.000000</td>\n",
       "                        <td id=\"T_7aeeb_row5_col6\" class=\"data row5 col6\" >-0.043110</td>\n",
       "            </tr>\n",
       "            <tr>\n",
       "                        <th id=\"T_7aeeb_level0_row6\" class=\"row_heading level0 row6\" >body</th>\n",
       "                        <td id=\"T_7aeeb_row6_col0\" class=\"data row6 col0\" >-0.034642</td>\n",
       "                        <td id=\"T_7aeeb_row6_col1\" class=\"data row6 col1\" >nan</td>\n",
       "                        <td id=\"T_7aeeb_row6_col2\" class=\"data row6 col2\" >0.058809</td>\n",
       "                        <td id=\"T_7aeeb_row6_col3\" class=\"data row6 col3\" >-0.099961</td>\n",
       "                        <td id=\"T_7aeeb_row6_col4\" class=\"data row6 col4\" >0.051099</td>\n",
       "                        <td id=\"T_7aeeb_row6_col5\" class=\"data row6 col5\" >-0.043110</td>\n",
       "                        <td id=\"T_7aeeb_row6_col6\" class=\"data row6 col6\" >1.000000</td>\n",
       "            </tr>\n",
       "    </tbody></table>"
      ],
      "text/plain": [
       "<pandas.io.formats.style.Styler at 0x124e51ac0>"
      ]
     },
     "execution_count": 20,
     "metadata": {},
     "output_type": "execute_result"
    }
   ],
   "source": [
    "def color_map(val):\n",
    "    color = 'red' if float(val) < -0.4 else 'green' if float(val) > 0.2  else 'black'\n",
    "    return 'color: %s' % color\n",
    "\n",
    "corr = df.corr()\n",
    "df_styled = corr.style.applymap(color_map)\n",
    "df_styled"
   ]
  },
  {
   "cell_type": "code",
   "execution_count": 21,
   "metadata": {
    "ExecuteTime": {
     "end_time": "2021-04-04T14:18:53.547086Z",
     "start_time": "2021-04-04T14:18:53.544353Z"
    }
   },
   "outputs": [],
   "source": [
    "import seaborn"
   ]
  },
  {
   "cell_type": "code",
   "execution_count": 22,
   "metadata": {
    "ExecuteTime": {
     "end_time": "2021-04-04T14:18:53.761461Z",
     "start_time": "2021-04-04T14:18:53.548341Z"
    },
    "id": "jWJPYnrkr2Di"
   },
   "outputs": [
    {
     "data": {
      "image/png": "[encoded data removed]",
      "text/plain": [
       "<Figure size 432x288 with 2 Axes>"
      ]
     },
     "metadata": {},
     "output_type": "display_data"
    }
   ],
   "source": [
    "mask = np.tril(np.ones_like(corr, dtype=np.bool))\n",
    "ax = sns.heatmap(df.corr(), annot=True, fmt=\".2f\", mask = mask, square = True)\n"
   ]
  },
  {
   "cell_type": "markdown",
   "metadata": {
    "id": "iLEe4AP9r2Dj"
   },
   "source": [
    "We can also see the relations more graphically:"
   ]
  },
  {
   "cell_type": "code",
   "execution_count": 23,
   "metadata": {
    "ExecuteTime": {
     "end_time": "2021-04-04T14:18:54.398462Z",
     "start_time": "2021-04-04T14:18:53.765605Z"
    },
    "id": "3qz8VIkEr2Dj"
   },
   "outputs": [
    {
     "name": "stderr",
     "output_type": "stream",
     "text": [
      "/opt/anaconda3/lib/python3.8/site-packages/seaborn/_decorators.py:36: FutureWarning: Pass the following variables as keyword args: x, y. From version 0.12, the only valid positional argument will be `data`, and passing other arguments without an explicit keyword will result in an error or misinterpretation.\n",
      "  warnings.warn(\n"
     ]
    },
    {
     "data": {
      "text/plain": [
       "<seaborn.axisgrid.JointGrid at 0x124d9c190>"
      ]
     },
     "execution_count": 23,
     "metadata": {},
     "output_type": "execute_result"
    },
    {
     "data": {
      "image/png": "[encoded data removed]",
      "text/plain": [
       "<Figure size 432x432 with 3 Axes>"
      ]
     },
     "metadata": {},
     "output_type": "display_data"
    }
   ],
   "source": [
    "sns.jointplot(\"age\", \"fare\", data=df, kind='reg')"
   ]
  },
  {
   "cell_type": "markdown",
   "metadata": {
    "id": "ugFsIl0Mr2Dj"
   },
   "source": [
    "### Categorical vs. Numerical"
   ]
  },
  {
   "cell_type": "code",
   "execution_count": 15,
   "metadata": {
    "ExecuteTime": {
     "end_time": "2021-04-10T13:05:44.279055Z",
     "start_time": "2021-04-10T13:05:44.272165Z"
    },
    "id": "-al-uXiMr2Dj"
   },
   "outputs": [],
   "source": [
    "def display_group_density_plot(df, groupby, on, palette, figsize):\n",
    "    \"\"\"\n",
    "    Displays a density plot by group, given a continuous variable, and a group to split the data by\n",
    "    :param df: DataFrame to display data from\n",
    "    :param groupby: Column name by which plots would be grouped (Categorical, maximum 10 categories)\n",
    "    :param on: Column name of the different density plots\n",
    "    :param palette: Color palette to use for drawing\n",
    "    :param figsize: Figure size\n",
    "    :return: matplotlib.axes._subplots.AxesSubplot object\n",
    "    \"\"\"\n",
    "\n",
    "    if not isinstance(df, pd.core.frame.DataFrame):\n",
    "        raise ValueError('df must be a pandas DataFrame')\n",
    "\n",
    "    if not groupby:\n",
    "        raise ValueError('groupby parameter must be provided')\n",
    "\n",
    "    elif not groupby in df.keys():\n",
    "        raise ValueError(groupby + ' column does not exist in the given DataFrame')\n",
    "\n",
    "    if not on:\n",
    "        raise ValueError('on parameter must be provided')\n",
    "\n",
    "    elif not on in df.keys():\n",
    "        raise ValueError(on + ' column does not exist in the given DataFrame')\n",
    "\n",
    "    if len(set(df[groupby])) > 10:\n",
    "        groups = df[groupby].value_counts().index[:10]\n",
    "\n",
    "    else:\n",
    "        groups = set(df[groupby])\n",
    "\n",
    "    # Get relevant palette\n",
    "    if palette:\n",
    "        palette = palette[:len(groups)]\n",
    "    else:\n",
    "        palette = sns.color_palette()[:len(groups)]\n",
    "\n",
    "    # Plot\n",
    "    fig = plt.figure(figsize=figsize)\n",
    "    ax = fig.add_subplot(111)\n",
    "    ax.legend(bbox_to_anchor=(1.04, 1), loc='upper left')\n",
    "\n",
    "    for value, color in zip(groups, palette):\n",
    "        sns.kdeplot(df.loc[df[groupby] == value][on], \\\n",
    "                    shade=True, color=color, label=value)\n",
    "    ax.set_title(str(\"Distribution of \" + on + \" per \" + groupby + \" group\"),\\\n",
    "                 fontsize=30)\n",
    "    \n",
    "    ax.set_xlabel(on, fontsize=20)\n",
    "    return ax "
   ]
  },
  {
   "cell_type": "code",
   "execution_count": 16,
   "metadata": {
    "ExecuteTime": {
     "end_time": "2021-04-10T13:05:45.376722Z",
     "start_time": "2021-04-10T13:05:45.117079Z"
    },
    "id": "4j7sTJNTr2Dk"
   },
   "outputs": [
    {
     "name": "stderr",
     "output_type": "stream",
     "text": [
      "No handles with labels found to put in legend.\n"
     ]
    },
    {
     "data": {
      "image/png": "[encoded data removed]",
      "text/plain": [
       "<Figure size 720x360 with 1 Axes>"
      ]
     },
     "metadata": {},
     "output_type": "display_data"
    }
   ],
   "source": [
    "display_group_density_plot(df, groupby = \"pclass\", on = 'age', \\\n",
    "                                           palette = sns.color_palette('Set3'), \n",
    "                           figsize = (10, 5))\n",
    "plt.legend();"
   ]
  },
  {
   "cell_type": "code",
   "execution_count": 26,
   "metadata": {
    "ExecuteTime": {
     "end_time": "2021-04-04T14:18:54.840990Z",
     "start_time": "2021-04-04T14:18:54.603439Z"
    },
    "id": "3XPHQX7Pr2Dk"
   },
   "outputs": [
    {
     "name": "stderr",
     "output_type": "stream",
     "text": [
      "/opt/anaconda3/lib/python3.8/site-packages/seaborn/_decorators.py:36: FutureWarning: Pass the following variables as keyword args: x, y, hue. From version 0.12, the only valid positional argument will be `data`, and passing other arguments without an explicit keyword will result in an error or misinterpretation.\n",
      "  warnings.warn(\n"
     ]
    },
    {
     "data": {
      "image/png": "[encoded data removed]",
      "text/plain": [
       "<Figure size 432.85x360 with 1 Axes>"
      ]
     },
     "metadata": {},
     "output_type": "display_data"
    }
   ],
   "source": [
    "with sns.axes_style(style='ticks'):\n",
    "    g = sns.catplot(\"survived\", \"age\", \"sex\", data=df, kind=\"box\")\n",
    "    g.set_axis_labels(\"survived\", \"age\")\n",
    "    plt.title('Box plot of survivors distribution by age by gender\\n', \\\n",
    "              fontdict = {'size':20});"
   ]
  },
  {
   "cell_type": "markdown",
   "metadata": {
    "id": "x7CI4Zmpr2Dk"
   },
   "source": [
    "We should take the correlations into considerations when building a model - you will talk about this in the next parts of your traning"
   ]
  },
  {
   "cell_type": "markdown",
   "metadata": {
    "id": "Fhed_Ib7r2Dk"
   },
   "source": [
    "# Feature Extraction"
   ]
  },
  {
   "cell_type": "markdown",
   "metadata": {
    "id": "KTlCM5n8r2Dk"
   },
   "source": [
    "We can sometimes make more out of our features. Can you think of some options?\n",
    "\n",
    "\n",
    "## Exercise\n",
    "\n",
    "1. Take the time to create 3 additional features.\n",
    "\n",
    "2. Plot their distribution and give some summary statistics - mean, median and more (think of a function that does this)\n",
    "\n",
    "3. How are they correlated to other features that exist in the DataFrame? What is their relation with the dependent variable?\n",
    "\n",
    "4. Are they categorical (nominal / ordinal) / numerical (discrete / continuous) features?\n",
    "\n",
    "5. What was your logic behind adding these features?\n"
   ]
  },
  {
   "cell_type": "code",
   "execution_count": null,
   "metadata": {},
   "outputs": [],
   "source": []
  }
 ],
 "metadata": {
  "colab": {
   "name": "EDA - From lecture.ipynb",
   "provenance": []
  },
  "hide_input": false,
  "kernelspec": {
   "display_name": "Python 3",
   "language": "python",
   "name": "python3"
  },
  "language_info": {
   "codemirror_mode": {
    "name": "ipython",
    "version": 3
   },
   "file_extension": ".py",
   "mimetype": "text/x-python",
   "name": "python",
   "nbconvert_exporter": "python",
   "pygments_lexer": "ipython3",
   "version": "3.9.13"
  },
  "latex_envs": {
   "LaTeX_envs_menu_present": true,
   "autoclose": false,
   "autocomplete": true,
   "bibliofile": "biblio.bib",
   "cite_by": "apalike",
   "current_citInitial": 1,
   "eqLabelWithNumbers": true,
   "eqNumInitial": 1,
   "hotkeys": {
    "equation": "Ctrl-E",
    "itemize": "Ctrl-I"
   },
   "labels_anchors": false,
   "latex_user_defs": false,
   "report_style_numbering": false,
   "user_envs_cfg": false
  },
  "toc": {
   "base_numbering": 1,
   "nav_menu": {},
   "number_sections": true,
   "sideBar": true,
   "skip_h1_title": false,
   "title_cell": "Table of Contents",
   "title_sidebar": "Contents",
   "toc_cell": false,
   "toc_position": {},
   "toc_section_display": true,
   "toc_window_display": false
  },
  "varInspector": {
   "cols": {
    "lenName": 16,
    "lenType": 16,
    "lenVar": 40
   },
   "kernels_config": {
    "python": {
     "delete_cmd_postfix": "",
     "delete_cmd_prefix": "del ",
     "library": "var_list.py",
     "varRefreshCmd": "print(var_dic_list())"
    },
    "r": {
     "delete_cmd_postfix": ") ",
     "delete_cmd_prefix": "rm(",
     "library": "var_list.r",
     "varRefreshCmd": "cat(var_dic_list()) "
    }
   },
   "types_to_exclude": [
    "module",
    "function",
    "builtin_function_or_method",
    "instance",
    "_Feature"
   ],
   "window_display": false
  }
 },
 "nbformat": 4,
 "nbformat_minor": 1
}
